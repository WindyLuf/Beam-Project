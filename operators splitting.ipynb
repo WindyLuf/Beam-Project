{
 "metadata": {
  "language_info": {
   "codemirror_mode": {
    "name": "ipython",
    "version": 3
   },
   "file_extension": ".py",
   "mimetype": "text/x-python",
   "name": "python",
   "nbconvert_exporter": "python",
   "pygments_lexer": "ipython3",
   "version": "3.8.5"
  },
  "orig_nbformat": 2,
  "kernelspec": {
   "name": "python385jvsc74a57bd0b46ef9ef0c70e1289742301c296434a817e71cf50810ff9ff20f0331f18810fe",
   "display_name": "Python 3.8.5 64-bit (conda)"
  }
 },
 "nbformat": 4,
 "nbformat_minor": 2,
 "cells": [
  {
   "cell_type": "code",
   "execution_count": 1,
   "metadata": {},
   "outputs": [],
   "source": [
    "import numpy as np \n",
    "\n",
    "import scipy.linalg as la\n",
    "import scipy\n",
    "from scipy.linalg import expm, sinm, cosm\n",
    "\n",
    "import sympy\n",
    "from sympy import Matrix\n"
   ]
  },
  {
   "cell_type": "code",
   "execution_count": 2,
   "metadata": {},
   "outputs": [],
   "source": [
    "h = sympy.Symbol(\"h\",real= True)\n",
    "P = Matrix([ [-1,1,0],\n",
    "               [0,-1,1],\n",
    "               [0,0,1]   ])\n",
    "D = Matrix([ [-2,1,0],\n",
    "               [1,-2,1],\n",
    "               [0,1,-2]  ])"
   ]
  },
  {
   "cell_type": "code",
   "execution_count": null,
   "metadata": {},
   "outputs": [],
   "source": []
  },
  {
   "source": [
    "# matrix P"
   ],
   "cell_type": "markdown",
   "metadata": {}
  },
  {
   "cell_type": "code",
   "execution_count": 3,
   "metadata": {},
   "outputs": [
    {
     "output_type": "execute_result",
     "data": {
      "text/plain": [
       "Matrix([\n",
       "[-1,  1, 0],\n",
       "[ 0, -1, 1],\n",
       "[ 0,  0, 1]])"
      ],
      "text/latex": "$\\displaystyle \\left[\\begin{matrix}-1 & 1 & 0\\\\0 & -1 & 1\\\\0 & 0 & 1\\end{matrix}\\right]$"
     },
     "metadata": {},
     "execution_count": 3
    }
   ],
   "source": [
    "P"
   ]
  },
  {
   "cell_type": "code",
   "execution_count": 4,
   "metadata": {},
   "outputs": [
    {
     "output_type": "execute_result",
     "data": {
      "text/plain": [
       "False"
      ]
     },
     "metadata": {},
     "execution_count": 4
    }
   ],
   "source": [
    "P.is_diagonal()"
   ]
  },
  {
   "cell_type": "code",
   "execution_count": 5,
   "metadata": {},
   "outputs": [
    {
     "output_type": "execute_result",
     "data": {
      "text/plain": [
       "False"
      ]
     },
     "metadata": {},
     "execution_count": 5
    }
   ],
   "source": [
    "P.is_diagonalizable()"
   ]
  },
  {
   "cell_type": "code",
   "execution_count": 6,
   "metadata": {},
   "outputs": [],
   "source": [
    "P1, Ja = P.jordan_form()"
   ]
  },
  {
   "cell_type": "code",
   "execution_count": 7,
   "metadata": {},
   "outputs": [
    {
     "output_type": "execute_result",
     "data": {
      "text/plain": [
       "Matrix([\n",
       "[-1,  1, 0],\n",
       "[ 0, -1, 0],\n",
       "[ 0,  0, 1]])"
      ],
      "text/latex": "$\\displaystyle \\left[\\begin{matrix}-1 & 1 & 0\\\\0 & -1 & 0\\\\0 & 0 & 1\\end{matrix}\\right]$"
     },
     "metadata": {},
     "execution_count": 7
    }
   ],
   "source": [
    "Ja"
   ]
  },
  {
   "cell_type": "code",
   "execution_count": 8,
   "metadata": {},
   "outputs": [
    {
     "output_type": "execute_result",
     "data": {
      "text/plain": [
       "Matrix([\n",
       "[1, 0, 1/4],\n",
       "[0, 1, 1/2],\n",
       "[0, 0,   1]])"
      ],
      "text/latex": "$\\displaystyle \\left[\\begin{matrix}1 & 0 & \\frac{1}{4}\\\\0 & 1 & \\frac{1}{2}\\\\0 & 0 & 1\\end{matrix}\\right]$"
     },
     "metadata": {},
     "execution_count": 8
    }
   ],
   "source": [
    "P1"
   ]
  },
  {
   "cell_type": "code",
   "execution_count": 9,
   "metadata": {},
   "outputs": [
    {
     "output_type": "execute_result",
     "data": {
      "text/plain": [
       "Matrix([\n",
       "[-1,  1, 0],\n",
       "[ 0, -1, 1],\n",
       "[ 0,  0, 1]])"
      ],
      "text/latex": "$\\displaystyle \\left[\\begin{matrix}-1 & 1 & 0\\\\0 & -1 & 1\\\\0 & 0 & 1\\end{matrix}\\right]$"
     },
     "metadata": {},
     "execution_count": 9
    }
   ],
   "source": [
    "P1 * Ja * P1.inv()"
   ]
  },
  {
   "cell_type": "code",
   "execution_count": 10,
   "metadata": {},
   "outputs": [
    {
     "output_type": "execute_result",
     "data": {
      "text/plain": [
       "exp(h)"
      ],
      "text/latex": "$\\displaystyle e^{h}$"
     },
     "metadata": {},
     "execution_count": 10
    }
   ],
   "source": [
    "f = sympy.E**h\n",
    "f"
   ]
  },
  {
   "cell_type": "code",
   "execution_count": 11,
   "metadata": {},
   "outputs": [
    {
     "output_type": "execute_result",
     "data": {
      "text/plain": [
       "Matrix([\n",
       "[-exp(h),  exp(h),      0],\n",
       "[      0, -exp(h), exp(h)],\n",
       "[      0,       0, exp(h)]])"
      ],
      "text/latex": "$\\displaystyle \\left[\\begin{matrix}- e^{h} & e^{h} & 0\\\\0 & - e^{h} & e^{h}\\\\0 & 0 & e^{h}\\end{matrix}\\right]$"
     },
     "metadata": {},
     "execution_count": 11
    }
   ],
   "source": [
    "res = P1 * (Ja*f) * P1.inv()\n",
    "res"
   ]
  },
  {
   "source": [],
   "cell_type": "code",
   "metadata": {},
   "execution_count": null,
   "outputs": []
  },
  {
   "source": [
    "# Matrix D"
   ],
   "cell_type": "markdown",
   "metadata": {}
  },
  {
   "cell_type": "code",
   "execution_count": null,
   "metadata": {},
   "outputs": [],
   "source": [
    "D"
   ]
  },
  {
   "cell_type": "code",
   "execution_count": null,
   "metadata": {},
   "outputs": [],
   "source": [
    "D.is_diagonalizable()"
   ]
  },
  {
   "cell_type": "code",
   "execution_count": null,
   "metadata": {},
   "outputs": [],
   "source": [
    "Q,D1=D.diagonalize()"
   ]
  },
  {
   "cell_type": "code",
   "execution_count": null,
   "metadata": {},
   "outputs": [],
   "source": [
    "D1"
   ]
  },
  {
   "cell_type": "code",
   "execution_count": null,
   "metadata": {},
   "outputs": [],
   "source": [
    "Q"
   ]
  },
  {
   "cell_type": "code",
   "execution_count": null,
   "metadata": {},
   "outputs": [],
   "source": [
    "Q.inv()"
   ]
  },
  {
   "cell_type": "code",
   "execution_count": null,
   "metadata": {},
   "outputs": [],
   "source": [
    "D1 * sympy.E**h"
   ]
  },
  {
   "cell_type": "code",
   "execution_count": null,
   "metadata": {},
   "outputs": [],
   "source": [
    "Q * (D1 * sympy.E**h) * Q.inv()"
   ]
  },
  {
   "cell_type": "code",
   "execution_count": null,
   "metadata": {},
   "outputs": [],
   "source": []
  },
  {
   "source": [
    "## High Dimention"
   ],
   "cell_type": "markdown",
   "metadata": {}
  },
  {
   "cell_type": "code",
   "execution_count": null,
   "metadata": {},
   "outputs": [],
   "source": [
    "A = Matrix([ [1,2,3],[4,5,6]]) #,[7,8,9]\n",
    "m,n=A.shape\n",
    "np.zeros(A.shape)"
   ]
  },
  {
   "cell_type": "code",
   "execution_count": null,
   "metadata": {},
   "outputs": [],
   "source": [
    "\n",
    "x = sympy.Symbol(\"x\")\n",
    "f = sympy.Function(\"f\")(x)\n",
    "def Jordan_block_F(Ja):\n",
    "    B = np.zeros(A.shape)\n",
    "    m ,n = A.shape\n",
    "    for i in range(m):\n",
    "        a = 0\n",
    "        for j in range(i,n):\n",
    "            g=f.diff(x,a)                                    #这里是错的 应该是Jordan块的阶次  先分解为约旦块才行\n",
    "            x = A[i,j]\n",
    "            B[i,j] = g(x)\n",
    "            a+=1\n",
    "    B = Matrix(B)\n",
    "    return B"
   ]
  },
  {
   "cell_type": "code",
   "execution_count": null,
   "metadata": {},
   "outputs": [],
   "source": []
  },
  {
   "source": [
    "# test others"
   ],
   "cell_type": "markdown",
   "metadata": {}
  },
  {
   "cell_type": "code",
   "execution_count": null,
   "metadata": {},
   "outputs": [],
   "source": [
    "# expm( np.array([ [2,0],[0,3] ]) )\n",
    "# expm( np.array([ [2,0],[0,3] ] * h ))  \n",
    "# expm( np.array( [ [2,0],[0,3]  ])* h )  \n",
    "# expm( h * Matrix( [ [2,0],[0,3]  ])  ) "
   ]
  },
  {
   "cell_type": "code",
   "execution_count": null,
   "metadata": {},
   "outputs": [],
   "source": [
    "# expm( Matrix([[2,0],[0,3]]) ) \n",
    "# expm( h* np.array([[2,0],[0,3]]) ) \n",
    "expm( np.array([[2,0],[0,3]]) ) "
   ]
  },
  {
   "cell_type": "code",
   "execution_count": null,
   "metadata": {},
   "outputs": [],
   "source": [
    "x = 3\n",
    "expm( x * np.array([[2,1],[7,3]]) )   # 可以数值的求解"
   ]
  },
  {
   "cell_type": "code",
   "execution_count": null,
   "metadata": {},
   "outputs": [],
   "source": [
    "A = Matrix([[2,0],[0,3]])\n",
    "f = sympy.E**(h*A)"
   ]
  },
  {
   "cell_type": "code",
   "execution_count": null,
   "metadata": {},
   "outputs": [],
   "source": []
  },
  {
   "cell_type": "code",
   "execution_count": null,
   "metadata": {},
   "outputs": [],
   "source": []
  },
  {
   "source": [
    "# scipy idea"
   ],
   "cell_type": "markdown",
   "metadata": {}
  },
  {
   "cell_type": "code",
   "execution_count": null,
   "metadata": {},
   "outputs": [],
   "source": [
    "import numpy as np \n",
    "from scipy.linalg import expm, sinm, cosm\n",
    "expm(np.zeros((2,2)))"
   ]
  },
  {
   "source": [
    " Euler’s identity $ (exp(i*\\theta) = cos(\\theta) + i*sin(\\theta)) $ applied  to a matrix: \r\n"
   ],
   "cell_type": "markdown",
   "metadata": {}
  },
  {
   "cell_type": "code",
   "execution_count": null,
   "metadata": {},
   "outputs": [],
   "source": [
    "a = np.array([[1.0, 2.0], [-1.0, 3.0]])\n",
    "expm(1j*a)"
   ]
  },
  {
   "cell_type": "code",
   "execution_count": null,
   "metadata": {},
   "outputs": [],
   "source": [
    "cosm(a) + 1j*sinm(a)"
   ]
  },
  {
   "source": [
    "### 自由 矩阵函数"
   ],
   "cell_type": "markdown",
   "metadata": {}
  },
  {
   "cell_type": "code",
   "execution_count": null,
   "metadata": {},
   "outputs": [],
   "source": [
    "from scipy.linalg import funm\n",
    "import numpy as np \n",
    "a = np.array([[1.0, 3.0], [1.0, 4.0]])\n",
    "funm(a, lambda x: x*x)"
   ]
  },
  {
   "cell_type": "code",
   "execution_count": null,
   "metadata": {},
   "outputs": [],
   "source": [
    "a.dot(a)"
   ]
  },
  {
   "cell_type": "code",
   "execution_count": null,
   "metadata": {},
   "outputs": [],
   "source": []
  },
  {
   "cell_type": "code",
   "execution_count": null,
   "metadata": {},
   "outputs": [],
   "source": [
    "from scipy.linalg import eigh\n",
    "def funm_herm(a, func, check_finite=False):\n",
    "    w, v = eigh(a, check_finite=check_finite)\n",
    "    ## if you further know that your matrix is positive semidefinite,\n",
    "    ## you can optionally guard against precision errors by doing\n",
    "    # w = np.maximum(w, 0)\n",
    "    w = func(w)\n",
    "    return (v * w).dot(v.conj().T)"
   ]
  }
 ]
}