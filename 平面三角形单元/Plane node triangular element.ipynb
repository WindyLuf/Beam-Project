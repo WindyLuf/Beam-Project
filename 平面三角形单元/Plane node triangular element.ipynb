{
 "metadata": {
  "language_info": {
   "codemirror_mode": {
    "name": "ipython",
    "version": 3
   },
   "file_extension": ".py",
   "mimetype": "text/x-python",
   "name": "python",
   "nbconvert_exporter": "python",
   "pygments_lexer": "ipython3",
   "version": "3.8.3-final"
  },
  "orig_nbformat": 2,
  "kernelspec": {
   "name": "python3",
   "display_name": "Python 3",
   "language": "python"
  }
 },
 "nbformat": 4,
 "nbformat_minor": 2,
 "cells": [
  {
   "cell_type": "code",
   "execution_count": 1,
   "metadata": {},
   "outputs": [],
   "source": [
    "import numpy as np \n",
    "import sympy"
   ]
  },
  {
   "source": [
    "# 每个单元的形函数N、几何矩阵B、应力矩阵S、刚度矩阵k的获取函数"
   ],
   "cell_type": "markdown",
   "metadata": {}
  },
  {
   "cell_type": "code",
   "execution_count": 2,
   "metadata": {},
   "outputs": [],
   "source": [
    "def Shape_function_matrix(xi,yi,xj,yj,xm,ym):\n",
    "    \"\"\"    \n",
    "    输入单元节点 i j m 三点的坐标\n",
    "    输出：单元形函数N\n",
    "    \"\"\"\n",
    "    x=sympy.Symbol(\"x\",real=True)\n",
    "    y=sympy.Symbol(\"y\",real=True)\n",
    "\n",
    "    ai=xj*ym-xm*yi\n",
    "    bi=yj-ym\n",
    "    ci=-xj+xm\n",
    "\n",
    "    aj=xm*yi-xi*ym\n",
    "    bj=ym-yi\n",
    "    cj=-xm+xi\n",
    "\n",
    "    am=xi*yj-xj*yi\n",
    "    bm=yi-yj\n",
    "    cm=-xi+xj\n",
    "\n",
    "    A2=np.linalg.det(np.array([ [1,xi,yi],[1,xj,yj],[1,xm,ym] ]))\n",
    "\n",
    "    Ni=(ai+bi*x+ci*y)/A2\n",
    "    Nj=(aj+bj*x+cj*y)/A2\n",
    "    Nm=(am+bm*x+cm*y)/A2\n",
    "  \n",
    "    N = np.array([ [Ni,0,Nj,0,Nm,0],[0,Ni,0,Nj,0,Nm] ])    \n",
    "    return N"
   ]
  },
  {
   "source": [
    "#test Shape_function_matrix\n",
    "\n",
    "Shape_function_matrix(1,0,0,1,0,0)"
   ],
   "cell_type": "markdown",
   "metadata": {}
  },
  {
   "cell_type": "code",
   "execution_count": 3,
   "metadata": {},
   "outputs": [],
   "source": [
    "def Geometric_matrix(xi,yi,xj,yj,xm,ym):\n",
    "    \"\"\"\n",
    "    输入单元节点 i j m 三点的坐标\n",
    "    输出：单元几何矩阵B\n",
    "    \n",
    "    \"\"\"\n",
    "    #ai=xj*ym-xm*yi\n",
    "    bi=yj-ym\n",
    "    ci=-xj+xm\n",
    "\n",
    "    #aj=xm*yi-xi*ym\n",
    "    bj=ym-yi\n",
    "    cj=-xm+xi\n",
    "\n",
    "    #am=xi*yj-xj*yi\n",
    "    bm=yi-yj\n",
    "    cm=-xi+xj\n",
    "\n",
    "    B=np.array([ [bi,0,bj,0,bm,0],[0,ci,0,cj,0,cm],[ci,bi,cj,bj,cm,bm] ])\n",
    "    \n",
    "    return B\n",
    "#Geometric_matrix(1,0,0,1,0,0)"
   ]
  },
  {
   "cell_type": "code",
   "execution_count": 4,
   "metadata": {},
   "outputs": [],
   "source": [
    "def Stress_matrix(xi,yi,xj,yj,xm,ym,E=2*10**11,u=0.3):\n",
    "    \"\"\"\n",
    "    输入单元节点 i j m 三点的坐标  E u\n",
    "    输出：单元应力矩阵S\n",
    "    \n",
    "    \"\"\"\n",
    "    #ai=xj*ym-xm*yi\n",
    "    bi=yj-ym\n",
    "    ci=-xj+xm\n",
    "\n",
    "    #aj=xm*yi-xi*ym\n",
    "    bj=ym-yi\n",
    "    cj=-xm+xi\n",
    "\n",
    "    #am=xi*yj-xj*yi\n",
    "    bm=yi-yj\n",
    "    cm=-xi+xj\n",
    "    A2=np.linalg.det(np.array([ [1,xi,yi],[1,xj,yj],[1,xm,ym] ]))  #单元面积的二倍\n",
    "\n",
    "    # # B=np.array([ [bi,0,bj,0,bm,0],[0,ci,0,cj,0,cm],[ci,bi,cj,bj,cm,bm] ])\n",
    "    # # D=( E/(1-u**2) )*np.array([ [1,u,0],[u,1,0],[0,0,(1-u)/2] ]) #弹性矩阵\n",
    "    # # S=np.dot(D,B)\n",
    "\n",
    "    S=np.array([ [bi,u*ci,bj,u*cj,bm,u*cm],[u*bi,ci,u*bj,cj,u*bm,cm],\n",
    "                [(1-u)*0.5*ci,(1-u)*0.5*bi,(1-u)*0.5*cj,(1-u)*0.5*bj,(1-u)*0.5*cm,(1-u)*0.5*bm] ])*E/ ( A2*(1-u**2) )\n",
    "    return S\n",
    "# Stress_matrix(1,0,0,1,0,0)"
   ]
  },
  {
   "cell_type": "code",
   "execution_count": 5,
   "metadata": {},
   "outputs": [],
   "source": [
    "def Element_stiffness_matrix(xi,yi,xj,yj,xm,ym,E=2*10**11,u=0.3,h=1):\n",
    "    \"\"\"\n",
    "    输入单元节点 i j m 三点的坐标  杨氏模量E 泊松比u  单元厚度：h\n",
    "    输出：单元刚度矩阵k\n",
    "\n",
    "    \"\"\"\n",
    "    #ai=xj*ym-xm*yi\n",
    "    bi=yj-ym\n",
    "    ci=-xj+xm\n",
    "\n",
    "    #aj=xm*yi-xi*ym\n",
    "    bj=ym-yi\n",
    "    cj=-xm+xi\n",
    "\n",
    "    #am=xi*yj-xj*yi\n",
    "    bm=yi-yj\n",
    "    cm=-xi+xj\n",
    "    A2=np.linalg.det(np.array([ [1,xi,yi],[1,xj,yj],[1,xm,ym] ])) #单元面积的二倍\n",
    "    A=A2/2\n",
    "\n",
    "    B=np.array([ [bi,0,bj,0,bm,0],[0,ci,0,cj,0,cm],[ci,bi,cj,bj,cm,bm] ])\n",
    "    D=( E/(1-u**2) )*np.array([ [1,u,0],[u,1,0],[0,0,(1-u)/2] ]) #弹性矩阵\n",
    "    \n",
    "    # S=np.dot(D,B)\n",
    "    # S=np.array([ [bi,u*ci,bj,u*cj,bm,u*cm],[u*bi,ci,u*bj,cj,u*bm,cm],[(1-u)*0.5*ci,(1-u)*0.5*bi,(1-u)*0.5*cj,(1-u)*0.5*bj,(1-u)*0.5*cm,(1-u)*0.5*bm] ])*E/ ( A2*(1-u**2) )\n",
    "    # k=np.dot(B.T,np.dot(D,B) )*h*A  #方法1：运用矩阵计算\n",
    "\n",
    "    k=E*h/(4*A*(1-u**2)) *np.array([ \n",
    "    [bi*bi+(1-u)*0.5*ci*ci,u*bi*ci+(1-u)*0.5*ci*bi,bi*bj+(1-u)*0.5*ci*cj,u*bi*cj+(1-u)*0.5*ci*bj,bi*bm+(1-u)*0.5*ci*cm,u*bi*cm+(1-u)*0.5*ci*bm],\n",
    "    [u*ci*bi+(1-u)*0.5*bi*ci,ci*ci+(1-u)*0.5*bi*bi,u*ci*bj+(1-u)*0.5*bi*cj,ci*cj+(1-u)*0.5*bi*bj,u*ci*bm+(1-u)*0.5*bi*cm,ci*cm+(1-u)*0.5*bi*bm],\n",
    "    \n",
    "    [bj*bi+(1-u)*0.5*cj*ci,u*bj*ci+(1-u)*0.5*cj*bi,bj*bj+(1-u)*0.5*cj*cj,u*bj*cj+(1-u)*0.5*cj*bj,bj*bm+(1-u)*0.5*cj*cm,u*bj*cm+(1-u)*0.5*cj*bm],\n",
    "    [u*cj*bi+(1-u)*0.5*bj*ci,cj*ci+(1-u)*0.5*bj*bi,u*cj*bj+(1-u)*0.5*bj*cj,cj*cj+(1-u)*0.5*bj*bj,u*cj*bm+(1-u)*0.5*bj*cm,cj*cm+(1-u)*0.5*bj*bm],\n",
    "\n",
    "    [bm*bi+(1-u)*0.5*cm*ci,u*bm*ci+(1-u)*0.5*cm*bi,bm*bj+(1-u)*0.5*cm*cj,u*bm*cj+(1-u)*0.5*cm*bj,bm*bm+(1-u)*0.5*cm*cm,u*bm*cm+(1-u)*0.5*cm*bm],\n",
    "    [u*cm*bi+(1-u)*0.5*bm*ci,cm*ci+(1-u)*0.5*bm*bi,u*cm*bj+(1-u)*0.5*bm*cj,cm*cj+(1-u)*0.5*bm*bj,u*cm*bm+(1-u)*0.5*bm*cm,cm*cm+(1-u)*0.5*bm*bm],\n",
    "     ]) #方法2：运用坐标计算\n",
    "    return k\n",
    "# Element_stiffness_matrix(1,0,0,1,0,0,E=2*10**11,u=0.3,h=1)\n"
   ]
  },
  {
   "source": [
    "# 组装整体刚度矩阵"
   ],
   "cell_type": "markdown",
   "metadata": {}
  },
  {
   "cell_type": "code",
   "execution_count": 6,
   "metadata": {},
   "outputs": [],
   "source": [
    "def assemble_overall_stiffness_matrix(k,i,j,m):\n",
    "    K_temp = np.zeros((30,30))\n",
    "    K_temp[2*i-2:2*i,2*i-2:2*i] = k[0:2,0:2]\n",
    "    K_temp[2*i-2:2*i,2*j-2:2*j] = k[0:2,2:4]\n",
    "    K_temp[2*i-2:2*i,2*m-2:2*m] = k[0:2,4:6]\n",
    "\n",
    "    K_temp[2*j-2:2*j,2*i-2:2*i] = k[2:4,0:2]\n",
    "    K_temp[2*j-2:2*j,2*j-2:2*j] = k[2:4,2:4]\n",
    "    K_temp[2*j-2:2*j,2*m-2:2*m] = k[2:4,4:6]\n",
    "\n",
    "    K_temp[2*m-2:2*m,2*i-2:2*i] = k[4:6,0:2]\n",
    "    K_temp[2*m-2:2*m,2*j-2:2*j] = k[4:6,2:4]\n",
    "    K_temp[2*m-2:2*m,2*m-2:2*m] = k[4:6,4:6]\n",
    "    return K_temp\n"
   ]
  },
  {
   "cell_type": "code",
   "execution_count": 7,
   "metadata": {},
   "outputs": [],
   "source": [
    "h,b=2,1\n",
    "K=np.zeros((30,30)) \n",
    "k1=Element_stiffness_matrix(h,-b/2,h,0,3*h/4,-b/2,E=2*10**11,u=0.3,h=1)     ;   K+=assemble_overall_stiffness_matrix(k1,1,2,4)\n",
    "k2=Element_stiffness_matrix(h,0,3*h/4,0,3*h/4,-b/2,E=2*10**11,u=0.3,h=1)    ;   K+=assemble_overall_stiffness_matrix(k2,2,5,4)\n",
    "k3=Element_stiffness_matrix(h,0,h,b/2,3*h/4,0,E=2*10**11,u=0.3,h=1)         ;   K+=assemble_overall_stiffness_matrix(k3,2,3,5) \n",
    "k4=Element_stiffness_matrix(h,b/2,3*h/4,b/2,3*h/4,0,E=2*10**11,u=0.3,h=1)   ;   K+=assemble_overall_stiffness_matrix(k4,3,6,5)\n",
    "k5=Element_stiffness_matrix(3*h/4,-b/2,3*h/4,0,h/2,-b/2,E=2*10**11,u=0.3,h=1);  K+=assemble_overall_stiffness_matrix(k5,4,5,7)\n",
    "k6=Element_stiffness_matrix(3*h/4,0,h/2,0,h/2,-b/2,E=2*10**11,u=0.3,h=1)    ;   K+=assemble_overall_stiffness_matrix(k6,5,8,7)\n",
    "k7=Element_stiffness_matrix(3*h/4,0,3*h/4,b/2,h/2,0,E=2*10**11,u=0.3,h=1)   ;   K+=assemble_overall_stiffness_matrix(k7,5,6,8)\n",
    "k8=Element_stiffness_matrix(3*h/4,b/2,h/2,b/2,h/2,0,E=2*10**11,u=0.3,h=1)   ;   K+=assemble_overall_stiffness_matrix(k8,6,9,8)\n",
    "k9=Element_stiffness_matrix(h/2,-b/2,h/2,0,h/4,-b/2,E=2*10**11,u=0.3,h=1)   ;   K+=assemble_overall_stiffness_matrix(k9,7,8,10)\n",
    "k10=Element_stiffness_matrix(h/2,0,h/4,0,h/4,-b/2,E=2*10**11,u=0.3,h=1)     ;   K+=assemble_overall_stiffness_matrix(k10,8,11,10)\n",
    "k11=Element_stiffness_matrix(h/2,0,h/2,b/2,h/4,0,E=2*10**11,u=0.3,h=1)      ;   K+=assemble_overall_stiffness_matrix(k11,8,9,11)\n",
    "k12=Element_stiffness_matrix(h/2,b/2,h/4,b/2,h/4,0,E=2*10**11,u=0.3,h=1)    ;   K+=assemble_overall_stiffness_matrix(k12,9,12,11)\n",
    "k13=Element_stiffness_matrix(h/4,-b/2,h/4,0,0,-b/2,E=2*10**11,u=0.3,h=1)    ;   K+=assemble_overall_stiffness_matrix(k13,10,11,13)\n",
    "k14=Element_stiffness_matrix(h/4,0,0,0,0,-b/2,E=2*10**11,u=0.3,h=1)         ;   K+=assemble_overall_stiffness_matrix(k14,11,14,13)\n",
    "k15=Element_stiffness_matrix(h/4,0,h/4,b/2,0,0,E=2*10**11,u=0.3,h=1)        ;   K+=assemble_overall_stiffness_matrix(k15,11,12,14)\n",
    "k16=Element_stiffness_matrix(h/4,b/2,0,b/2,0,0,E=2*10**11,u=0.3,h=1)        ;   K+=assemble_overall_stiffness_matrix(k16,12,15,14)\n",
    "#K.shape"
   ]
  },
  {
   "source": [
    "# 用整体载荷矩阵 边界条件 求解节点位移矩阵"
   ],
   "cell_type": "markdown",
   "metadata": {}
  },
  {
   "cell_type": "code",
   "execution_count": 8,
   "metadata": {},
   "outputs": [],
   "source": [
    "#整体力矩阵\n",
    "F=np.array([-25,0, 0,0, 25,0, -50,0, 0,0, 50,0, -50,0, 0,0, 50,0, -50,0, 0,0, 50,0, 150,200, 0,0, 50,0 ])"
   ]
  },
  {
   "cell_type": "code",
   "execution_count": 38,
   "metadata": {},
   "outputs": [
    {
     "output_type": "stream",
     "name": "stdout",
     "text": [
      "4到15节点的节点位移矩阵为\n [-3.04238827e-09  3.03149721e-09  4.17273385e-10  2.88953133e-09\n  4.21134408e-09  3.64317248e-09 -4.98436806e-09  9.02699849e-09\n  1.04050090e-09  9.12522927e-09  7.12369228e-09  9.73806801e-09\n -5.64591103e-09  1.69935465e-08  1.62362489e-09  1.71719930e-08\n  8.77690479e-09  1.74088687e-08 -4.80707774e-09  2.64038876e-08\n  1.72960503e-09  2.53649634e-08  9.37469391e-09  2.54171743e-08]\n"
     ]
    }
   ],
   "source": [
    "#位移边界条件  1 2 3 节点的位移为0 因此需要划去\n",
    "K_end=K[6:,6:] #只取需要的部分\n",
    "# K_end.shape\n",
    "F_end=F[6:]\n",
    "\n",
    "d=np.dot( np.linalg.inv(K_end) , F_end )\n",
    "print(\"4到15节点的节点位移矩阵为\\n\",d) #从4节点开始的节点位移矩阵\n",
    "# d"
   ]
  },
  {
   "cell_type": "code",
   "execution_count": 39,
   "metadata": {},
   "outputs": [
    {
     "output_type": "stream",
     "name": "stdout",
     "text": [
      "4-15结点x向位移\n [-3.04238827e-09  4.17273385e-10  4.21134408e-09 -4.98436806e-09\n  1.04050090e-09  7.12369228e-09 -5.64591103e-09  1.62362489e-09\n  8.77690479e-09 -4.80707774e-09  1.72960503e-09  9.37469391e-09]\n"
     ]
    }
   ],
   "source": [
    "print(\"4-15结点x向位移\\n\",d[0::2] ) #4-15结点x向位移"
   ]
  },
  {
   "cell_type": "code",
   "execution_count": 41,
   "metadata": {},
   "outputs": [
    {
     "output_type": "stream",
     "name": "stdout",
     "text": [
      "4-15结点y向位移\n [3.03149721e-09 2.88953133e-09 3.64317248e-09 9.02699849e-09\n 9.12522927e-09 9.73806801e-09 1.69935465e-08 1.71719930e-08\n 1.74088687e-08 2.64038876e-08 2.53649634e-08 2.54171743e-08]\n"
     ]
    }
   ],
   "source": [
    "print(\"4-15结点y向位移\\n\",d[1::2] ) #4-15节点y向位移"
   ]
  },
  {
   "source": [
    "# 获取每个的单元位移矩阵函数  \n"
   ],
   "cell_type": "markdown",
   "metadata": {}
  },
  {
   "cell_type": "code",
   "execution_count": 12,
   "metadata": {},
   "outputs": [],
   "source": [
    "def node_dis_select(d,i):       # 获取某节点位移  输入：总的位移矩阵 \n",
    "    if i<4:\n",
    "        result=np.array([0,0])\n",
    "    else:\n",
    "        result=d[(2*i-8):(2*i-6)]\n",
    "\n",
    "    \n",
    "    return result\n",
    "# type( node_dis_select(d,6) )\n",
    "def element_dis(i,j,m):             #获取单元位移矩阵  输入： 节点编号 i j m   调用：获取节点位移函数\n",
    "    temp_matrx=np.append( node_dis_select(d,i), node_dis_select(d,j) )\n",
    "    result=np.append( temp_matrx, node_dis_select(d,m)  )\n",
    "    return result\n",
    "# element_dis(0,1,4)"
   ]
  },
  {
   "source": [
    "#### 单元应变矩阵 应力矩阵 实验以确定规律编写函数文件"
   ],
   "cell_type": "markdown",
   "metadata": {}
  },
  {
   "cell_type": "code",
   "execution_count": 13,
   "metadata": {},
   "outputs": [
    {
     "output_type": "stream",
     "name": "stdout",
     "text": [
      "1单元应变为 [ 1.52119414e-09  0.00000000e+00 -1.51574861e-09]\n1单元应力为 [1337.31352649  401.19405795 -466.38418646]\n"
     ]
    }
   ],
   "source": [
    "#1单元 位移矩阵 应力矩阵\n",
    "# d1=np.array([0,0,0,0,-3.04238827e-09,  3.03149721e-09])\n",
    "d1=element_dis(0,1,4)\n",
    "B1=Geometric_matrix(h,-b/2,h,0,3*h/4,-b/2)\n",
    "yingbian1=np.dot(B1,d1)\n",
    "print(\"1单元应变为\",yingbian1)  \n",
    "\n",
    "S1=Stress_matrix(h,-b/2,h,0,3*h/4,-b/2,E=2*10**11,u=0.3)\n",
    "thegma1=np.dot(S1,d1)\n",
    "print(\"1单元应力为\",thegma1)        #[thegma_x  thegma_y tao_xy]"
   ]
  },
  {
   "cell_type": "code",
   "execution_count": 14,
   "metadata": {},
   "outputs": [
    {
     "output_type": "stream",
     "name": "stdout",
     "text": [
      "5单元应变为 [ 9.70989892e-10 -7.09829407e-11 -1.26791981e-09]\n5单元应力为 [ 834.89671213  193.68266105 -390.12917248]\n"
     ]
    }
   ],
   "source": [
    "#5单元 位移矩阵 应力矩阵\n",
    "d5=element_dis(4,5,7)   # i j m\n",
    "B5=Geometric_matrix(3*h/4,-b/2,3*h/4,0,h/2,-b/2)\n",
    "yingbian5=np.dot(B5,d5)\n",
    "print(\"5单元应变为\",yingbian5)  \n",
    "\n",
    "S5=Stress_matrix(3*h/4,-b/2,3*h/4,0,h/2,-b/2,E=2*10**11,u=0.3)\n",
    "thegma5=np.dot(S5,d5)\n",
    "print(\"5单元应力为\",thegma5)        #[thegma_x  thegma_y tao_xy]"
   ]
  },
  {
   "source": [
    "# 单元应变矩阵 和 单元应力矩阵 获取函数"
   ],
   "cell_type": "markdown",
   "metadata": {}
  },
  {
   "cell_type": "code",
   "execution_count": 15,
   "metadata": {},
   "outputs": [],
   "source": [
    "def stress_matrx_elem(n,i,j,m,xi,yi,xj,yj,xm,ym,E=2*10**11,u=0.3):\n",
    "    dn=element_dis(i,j,m)\n",
    "    Bn=Geometric_matrix(xi,yi,xj,yj,xm,ym)\n",
    "    yingbian=np.dot(Bn,dn)\n",
    "    print(n,\"单元应变为:\",yingbian) \n",
    "\n",
    "    Sn=Stress_matrix(xi,yi,xj,yj,xm,ym,E=2*10**11,u=0.3)\n",
    "    thegma=np.dot(Sn,dn)\n",
    "    print(n,\"单元应力为：\",thegma)\n",
    "\n",
    "    return"
   ]
  },
  {
   "source": [
    "# 各单元的 单元应变矩阵 和 单元应力矩阵"
   ],
   "cell_type": "markdown",
   "metadata": {}
  },
  {
   "cell_type": "code",
   "execution_count": 16,
   "metadata": {},
   "outputs": [
    {
     "output_type": "stream",
     "name": "stdout",
     "text": [
      "1 单元应变为: [ 1.52119414e-09  0.00000000e+00 -1.51574861e-09]\n1 单元应力为： [1337.31352649  401.19405795 -466.38418646]\n"
     ]
    }
   ],
   "source": [
    "stress_matrx_elem(1,1,2,4,h,-b/2,h,0,3*h/4,-b/2,E=2*10**11,u=0.3)"
   ]
  },
  {
   "cell_type": "code",
   "execution_count": 17,
   "metadata": {},
   "outputs": [
    {
     "output_type": "stream",
     "name": "stdout",
     "text": [
      "2 单元应变为: [-2.08636693e-10 -7.09829407e-11  2.85065164e-10]\n2 单元应力为： [-202.13764832 -117.42764708   87.71235812]\n"
     ]
    }
   ],
   "source": [
    "stress_matrx_elem(2,2,5,4,h,0,3*h/4,0,3*h/4,-b/2,E=2*10**11,u=0.3)"
   ]
  },
  {
   "cell_type": "code",
   "execution_count": 18,
   "metadata": {},
   "outputs": [
    {
     "output_type": "stream",
     "name": "stdout",
     "text": [
      "3 单元应变为: [-2.08636693e-10  0.00000000e+00 -1.44476567e-09]\n3 单元应力为： [-183.41687274  -55.02506182 -444.54328162]\n"
     ]
    }
   ],
   "source": [
    "stress_matrx_elem(3,2,3,5,h,0,h,b/2,3*h/4,0,E=2*10**11,u=0.3)"
   ]
  },
  {
   "cell_type": "code",
   "execution_count": 19,
   "metadata": {},
   "outputs": [
    {
     "output_type": "stream",
     "name": "stdout",
     "text": [
      "4 单元应变为: [-2.10567204e-09  3.76820576e-10  7.54491074e-11]\n4 单元应力为： [-1751.75900543  -224.07124069    23.21510996]\n"
     ]
    }
   ],
   "source": [
    "stress_matrx_elem(4,3,6,5,h,b/2,3*h/4,b/2,3*h/4,0,E=2*10**11,u=0.3)"
   ]
  },
  {
   "cell_type": "code",
   "execution_count": 20,
   "metadata": {},
   "outputs": [
    {
     "output_type": "stream",
     "name": "stdout",
     "text": [
      "5 单元应变为: [ 9.70989892e-10 -7.09829407e-11 -1.26791981e-09]\n5 单元应力为： [ 834.89671213  193.68266105 -390.12917248]\n"
     ]
    }
   ],
   "source": [
    "stress_matrx_elem(5,4,5,7,3*h/4,-b/2,3*h/4,0,h/2,-b/2,E=2*10**11,u=0.3)"
   ]
  },
  {
   "cell_type": "code",
   "execution_count": 21,
   "metadata": {},
   "outputs": [
    {
     "output_type": "stream",
     "name": "stdout",
     "text": [
      "6 单元应变为: [-3.11613756e-10  4.91153908e-11 -1.05414494e-10]\n6 单元应力为： [-260.99264934  -39.00548214  -32.43522892]\n"
     ]
    }
   ],
   "source": [
    "stress_matrx_elem(6,5,8,7,3*h/4,0,h/2,0,h/2,-b/2,E=2*10**11,u=0.3)"
   ]
  },
  {
   "cell_type": "code",
   "execution_count": 22,
   "metadata": {},
   "outputs": [
    {
     "output_type": "stream",
     "name": "stdout",
     "text": [
      "7 单元应变为: [-3.11613756e-10  3.76820576e-10 -1.22081362e-09]\n7 单元应力为： [-174.56490815  249.08698849 -375.63496076]\n"
     ]
    }
   ],
   "source": [
    "stress_matrx_elem(7,5,6,8,3*h/4,0,3*h/4,b/2,h/2,0,E=2*10**11,u=0.3)"
   ]
  },
  {
   "cell_type": "code",
   "execution_count": 23,
   "metadata": {},
   "outputs": [
    {
     "output_type": "stream",
     "name": "stdout",
     "text": [
      "8 单元应变为: [-1.45617410e-09  3.06419370e-10 -5.85207299e-12]\n8 单元应力为： [-1199.33915464  -114.66625012    -1.80063784]\n"
     ]
    }
   ],
   "source": [
    "stress_matrx_elem(8,6,9,8,3*h/4,b/2,h/2,b/2,h/2,0,E=2*10**11,u=0.3)"
   ]
  },
  {
   "cell_type": "code",
   "execution_count": 24,
   "metadata": {},
   "outputs": [
    {
     "output_type": "stream",
     "name": "stdout",
     "text": [
      "9 单元应变为: [ 3.30771487e-10  4.91153908e-11 -9.70839522e-10]\n9 单元应力为： [ 303.74163035  130.41480176 -298.71985286]\n"
     ]
    }
   ],
   "source": [
    "stress_matrx_elem(9,7,8,10,h/2,-b/2,h/2,0,h/4,-b/2,E=2*10**11,u=0.3)"
   ]
  },
  {
   "cell_type": "code",
   "execution_count": 25,
   "metadata": {},
   "outputs": [
    {
     "output_type": "stream",
     "name": "stdout",
     "text": [
      "10 单元应变为: [-2.91561997e-10  8.92232614e-11 -3.88613908e-10]\n10 单元应力为： [-232.78682918    1.54256036 -119.5735103 ]\n"
     ]
    }
   ],
   "source": [
    "stress_matrx_elem(10,8,11,10,h/2,0,h/4,0,h/4,-b/2,E=2*10**11,u=0.3)"
   ]
  },
  {
   "cell_type": "code",
   "execution_count": 26,
   "metadata": {},
   "outputs": [
    {
     "output_type": "stream",
     "name": "stdout",
     "text": [
      "11 单元应变为: [-2.91561997e-10  3.06419370e-10 -9.81786177e-10]\n11 单元应力为： [-175.50433891  192.4841946  -302.08805452]\n"
     ]
    }
   ],
   "source": [
    "stress_matrx_elem(11,8,9,11,h/2,0,h/2,b/2,h/4,0,E=2*10**11,u=0.3)"
   ]
  },
  {
   "cell_type": "code",
   "execution_count": 27,
   "metadata": {},
   "outputs": [
    {
     "output_type": "stream",
     "name": "stdout",
     "text": [
      "12 单元应变为: [-8.26606254e-10  1.18437843e-10 -2.58760393e-10]\n12 单元应力为： [-695.45046227 -113.88486453  -79.61858232]\n"
     ]
    }
   ],
   "source": [
    "stress_matrx_elem(12,9,12,11,h/2,b/2,h/4,b/2,h/4,0,E=2*10**11,u=0.3)"
   ]
  },
  {
   "cell_type": "code",
   "execution_count": 28,
   "metadata": {},
   "outputs": [
    {
     "output_type": "stream",
     "name": "stdout",
     "text": [
      "13 单元应变为: [-4.19416644e-10  8.92232614e-11 -1.07040258e-09]\n13 单元应力为： [-345.18651905  -32.1773466  -329.3546391 ]\n"
     ]
    }
   ],
   "source": [
    "stress_matrx_elem(13,10,11,13,h/4,-b/2,h/4,0,0,-b/2,E=2*10**11,u=0.3)"
   ]
  },
  {
   "cell_type": "code",
   "execution_count": 29,
   "metadata": {},
   "outputs": [
    {
     "output_type": "stream",
     "name": "stdout",
     "text": [
      "14 单元应变为: [-5.29900691e-11 -5.19462077e-10 -8.28143813e-10]\n14 单元应力为： [-183.58566358 -470.6453609  -254.81348095]\n"
     ]
    }
   ],
   "source": [
    "stress_matrx_elem(14,11,14,13,h/4,0,0,0,0,-b/2,E=2*10**11,u=0.3)"
   ]
  },
  {
   "cell_type": "code",
   "execution_count": 30,
   "metadata": {},
   "outputs": [
    {
     "output_type": "stream",
     "name": "stdout",
     "text": [
      "15 单元应变为: [-5.29900691e-11  1.18437843e-10 -5.19845250e-10]\n15 单元应力为： [ -15.34832206   90.14577753 -159.95238464]\n"
     ]
    }
   ],
   "source": [
    "stress_matrx_elem(15,11,12,14,h/4,0,h/4,b/2,0,0,E=2*10**11,u=0.3)"
   ]
  },
  {
   "cell_type": "code",
   "execution_count": 31,
   "metadata": {},
   "outputs": [
    {
     "output_type": "stream",
     "name": "stdout",
     "text": [
      "16 单元应变为: [-2.98894558e-10  2.61054416e-11 -1.81608360e-10]\n16 单元应力为： [-255.87949531  -55.87949531  -55.87949531]\n"
     ]
    }
   ],
   "source": [
    "stress_matrx_elem(16,12,15,14,h/4,b/2,0,b/2,0,0,E=2*10**11,u=0.3)"
   ]
  },
  {
   "cell_type": "code",
   "execution_count": null,
   "metadata": {},
   "outputs": [],
   "source": []
  },
  {
   "cell_type": "code",
   "execution_count": null,
   "metadata": {},
   "outputs": [],
   "source": []
  },
  {
   "cell_type": "code",
   "execution_count": null,
   "metadata": {},
   "outputs": [],
   "source": []
  },
  {
   "cell_type": "code",
   "execution_count": null,
   "metadata": {},
   "outputs": [],
   "source": []
  },
  {
   "cell_type": "code",
   "execution_count": null,
   "metadata": {},
   "outputs": [],
   "source": []
  },
  {
   "cell_type": "code",
   "execution_count": null,
   "metadata": {},
   "outputs": [],
   "source": []
  },
  {
   "cell_type": "code",
   "execution_count": 32,
   "metadata": {},
   "outputs": [
    {
     "output_type": "execute_result",
     "data": {
      "text/plain": [
       "264.0054944640259"
      ]
     },
     "metadata": {},
     "execution_count": 32
    }
   ],
   "source": [
    "def maxtha(x,y):\n",
    "    thegmax=1200*y-3600*x*y-200\n",
    "    txy=1800*y**2-350\n",
    "    maxtha=thegmax/2 + ( (thegmax/2)**2 + txy**2)**0.5\n",
    "    return maxtha\n",
    "maxtha(0,0)"
   ]
  },
  {
   "cell_type": "code",
   "execution_count": null,
   "metadata": {},
   "outputs": [],
   "source": []
  }
 ]
}