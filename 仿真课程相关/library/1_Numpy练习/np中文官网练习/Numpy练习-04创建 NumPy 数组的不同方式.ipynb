{
 "metadata": {
  "language_info": {
   "codemirror_mode": {
    "name": "ipython",
    "version": 3
   },
   "file_extension": ".py",
   "mimetype": "text/x-python",
   "name": "python",
   "nbconvert_exporter": "python",
   "pygments_lexer": "ipython3",
   "version": "3.8.3-final"
  },
  "orig_nbformat": 2,
  "kernelspec": {
   "name": "python3",
   "display_name": "Python 3"
  }
 },
 "nbformat": 4,
 "nbformat_minor": 2,
 "cells": [
  {
   "source": [
    "创建 Numpy 数组的不同方式\n",
    "Numpy库的核心是数组对象或ndarray对象（n维数组）。你将使用Numpy数组执行逻辑，统计和傅里叶变换等运算。作为使用Numpy的一部分，你要做的第一件事就是创建Numpy数组。本指南的主要目的是帮助数据科学爱好者了解可用于创建Numpy数组的不同方式。\n",
    "\n",
    "创建Numpy数组有三种不同的方法：\n",
    "\n",
    "使用Numpy内部功能函数\n",
    "\n",
    "从列表等其他Python的结构进行转换\n",
    "\n",
    "使用特殊的库函数"
   ],
   "cell_type": "markdown",
   "metadata": {}
  },
  {
   "source": [
    "#使用Numpy内部功能函数\n"
   ],
   "cell_type": "markdown",
   "metadata": {}
  },
  {
   "cell_type": "code",
   "execution_count": null,
   "metadata": {},
   "outputs": [],
   "source": [
    "#创建一个一维的数组\n",
    "#首先，让我们创建一维数组或rank为1的数组。arange是一种广泛使用的函数，用于快速创建数组。将值20传递给arange函数会创建一个值范围为0到19的数组。\n",
    "import numpy as np\n",
    "array = np.arange(20)\n",
    "print(array)\n",
    "print(array.shape)\n",
    "#由于逗号后面没有值，因此这是一维数组。 要访问此数组中的值，请指定非负索引。 与其他编程语言一样，索引从零开始。 因此，要访问数组中的第四个元素，请使用索引3。\n",
    "print(array[3])"
   ]
  },
  {
   "cell_type": "code",
   "execution_count": null,
   "metadata": {},
   "outputs": [],
   "source": [
    "#Numpy的数组是可变的，这意味着你可以在初始化数组后更改数组中元素的值。 使用print函数查看数组的内容。\n",
    "array[3]=100\n",
    "print(array)"
   ]
  },
  {
   "source": [
    "#创建一个二维数组\n",
    "\n",
    "我们来谈谈创建一个二维数组。 如果只使用arange函数，它将输出一维数组。 要使其成为二维数组，请使用reshape函数链接其输出。"
   ],
   "cell_type": "markdown",
   "metadata": {}
  },
  {
   "cell_type": "code",
   "execution_count": null,
   "metadata": {},
   "outputs": [],
   "source": [
    "array = np.arange(20).reshape(4,5)\n",
    "print(array)#首先，将创建20个整数，然后将数组转换为具有4行和5列的二维数组。 我们来检查一下这个数组的维数。\n",
    "print(array.shape)\n",
    "print(array[3][4])"
   ]
  },
  {
   "source": [
    "#创建三维数组及更多维度\n",
    "\n",
    "要创建三维数组，请为重塑形状函数指定3个参数。"
   ],
   "cell_type": "markdown",
   "metadata": {}
  },
  {
   "cell_type": "code",
   "execution_count": null,
   "metadata": {},
   "outputs": [],
   "source": [
    "array = np.arange(27).reshape(3,3,3)\n",
    "array\n",
    "#需要注意的是：数组中元素的数量（27）必须是其尺寸（3 * 3 * 3）的乘积。 要交叉检查它是否是三维数组，可以使用shape属性。"
   ]
  },
  {
   "cell_type": "code",
   "execution_count": null,
   "metadata": {},
   "outputs": [],
   "source": [
    "array.shape"
   ]
  },
  {
   "cell_type": "code",
   "execution_count": null,
   "metadata": {},
   "outputs": [],
   "source": [
    "#此外，使用arange函数，你可以创建一个在定义的起始值和结束值之间具有特定序列的数组。\n",
    "\n",
    "np.arange(10, 35, 3)"
   ]
  },
  {
   "source": [
    "使用其他Numpy函数\n",
    "\n",
    "除了arange函数之外，你还可以使用其他有用的函数（如 zeros 和 ones）来快速创建和填充数组。\n",
    "\n",
    "使用zeros函数创建一个填充零的数组。函数的参数表示行数和列数（或其维数）。"
   ],
   "cell_type": "markdown",
   "metadata": {}
  },
  {
   "cell_type": "code",
   "execution_count": null,
   "metadata": {},
   "outputs": [],
   "source": [
    "np.zeros((2,4))"
   ]
  },
  {
   "cell_type": "code",
   "execution_count": null,
   "metadata": {},
   "outputs": [],
   "source": [
    "np.ones((3,4))"
   ]
  },
  {
   "cell_type": "code",
   "execution_count": null,
   "metadata": {},
   "outputs": [],
   "source": [
    "#empty函数创建一个数组。它的初始内容是随机的，取决于内存的状态。\n",
    "\n",
    "np.empty((2,3))"
   ]
  },
  {
   "cell_type": "code",
   "execution_count": null,
   "metadata": {},
   "outputs": [],
   "source": [
    "#full函数创建一个填充给定值的n * m数组。\n",
    "\n",
    "np.full((2,3), 3)"
   ]
  },
  {
   "cell_type": "code",
   "execution_count": null,
   "metadata": {},
   "outputs": [],
   "source": [
    "#eye函数可以创建一个n * n矩阵，对角线为1s，其他为0。\n",
    "np.eye(3,3)"
   ]
  },
  {
   "cell_type": "code",
   "execution_count": null,
   "metadata": {},
   "outputs": [],
   "source": [
    "3*np.eye(2,2)"
   ]
  },
  {
   "cell_type": "code",
   "execution_count": null,
   "metadata": {},
   "outputs": [],
   "source": [
    "#函数linspace在指定的时间间隔内返回均匀间隔的数字。 例如，下面的函数返回0到10之间的四个等间距数字。\n",
    "\n",
    "np.linspace(0, 9, num=8)"
   ]
  },
  {
   "source": [
    "#从Python列表转换"
   ],
   "cell_type": "markdown",
   "metadata": {}
  },
  {
   "cell_type": "code",
   "execution_count": null,
   "metadata": {},
   "outputs": [],
   "source": [
    "\n",
    "#除了使用Numpy函数之外，你还可以直接从Python列表创建数组。将Python列表传递给数组函数以创建Numpy数组：\n",
    "\n",
    "array = np.array([4,5,6])\n",
    "array"
   ]
  },
  {
   "cell_type": "code",
   "execution_count": null,
   "metadata": {},
   "outputs": [],
   "source": [
    "#你还可以创建Python列表并传递其变量名以创建Numpy数组。\n",
    "list = [4,5,6]\n",
    "print(list)\n",
    "array = np.array(list)\n",
    "print(array)\n",
    "\n",
    "print(type(list))           #>>> <class 'list'>\n",
    "print(type(array))          #>>> <class 'numpy.ndarray'>"
   ]
  },
  {
   "cell_type": "code",
   "execution_count": null,
   "metadata": {},
   "outputs": [],
   "source": [
    "\n",
    "#要创建二维数组，请将一系列列表传递给数组函数。\n",
    "array = np.array([(1,2,3), (4,5,6)])\n",
    "print(array)\n",
    "print(array.shape)"
   ]
  },
  {
   "source": [
    "#使用特殊的库函数"
   ],
   "cell_type": "markdown",
   "metadata": {}
  },
  {
   "cell_type": "code",
   "execution_count": null,
   "metadata": {},
   "outputs": [],
   "source": [
    "#你还可以使用特殊库函数来创建数组。\n",
    "# 例如，要创建一个填充0到1之间随机值的数组，请使用random函数。这对于需要随机状态才能开始的问题特别有用。\n",
    "\n",
    "np.random.random((2,2))"
   ]
  },
  {
   "cell_type": "code",
   "execution_count": null,
   "metadata": {},
   "outputs": [],
   "source": []
  }
 ]
}