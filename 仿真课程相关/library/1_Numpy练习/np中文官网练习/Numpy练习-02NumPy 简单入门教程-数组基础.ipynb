{
 "metadata": {
  "language_info": {
   "codemirror_mode": {
    "name": "ipython",
    "version": 3
   },
   "file_extension": ".py",
   "mimetype": "text/x-python",
   "name": "python",
   "nbconvert_exporter": "python",
   "pygments_lexer": "ipython3",
   "version": "3.8.3-final"
  },
  "orig_nbformat": 2,
  "kernelspec": {
   "name": "python3",
   "display_name": "Python 3.8.3 64-bit (conda)",
   "metadata": {
    "interpreter": {
     "hash": "29a58165363761d0245fb0ea02df805252ac587bd1df7a9f713edd2be762951a"
    }
   }
  }
 },
 "nbformat": 4,
 "nbformat_minor": 2,
 "cells": [
  {
   "cell_type": "code",
   "execution_count": null,
   "metadata": {},
   "outputs": [],
   "source": [
    "import numpy as np"
   ]
  },
  {
   "cell_type": "code",
   "execution_count": null,
   "metadata": {},
   "outputs": [],
   "source": [
    "#数组基础\n",
    "#创建一个数组\n",
    "a = np.array([0,1,2,3,4])\n",
    "b = np.array((0,1,2,3,4))\n",
    "c = np.arange(5)\n",
    "d = np.linspace(0,2*np.pi,5)\n",
    "print(a) # >>>[0 1 2 3 4]\n",
    "print(b) # >>>[0 1 2 3 4]\n",
    "print(c) # >>>[0 1 2 3 4]\n",
    "print(d) # >>>[ 0.          1.57079633  3.14159265  4.71238898  6.28318531]\n",
    "print(a[3]) # >>>3"
   ]
  },
  {
   "cell_type": "code",
   "execution_count": null,
   "metadata": {},
   "outputs": [],
   "source": [
    "#如何使用多维数组表示矩阵和更多的信息\n",
    "# MD Array,\n",
    "a = np.array([[11, 12, 13, 14, 15],\n",
    "              [16, 17, 18, 19, 20],\n",
    "              [21, 22, 23, 24, 25],\n",
    "              [26, 27, 28 ,29, 30],\n",
    "              [31, 32, 33, 34, 35]])   #  注意逗号\n",
    " \n",
    "print(a[2,4]) # >>>25\n",
    "# 为了创建一个2D（二维）数组，我们传递一个列表的列表（或者是一个序列的序列）给array()函数。如果我们想要一个3D（三维）数组，我们就要传递一个列表的列表的列表，如果是一个4D（四维）数组，那就是列表的列表的列表的列表，以此类推。\n",
    "\n",
    "# 请注意2D（二维）数组（在我们的朋友空格键的帮助下）是如何按行和列排列的。要索引2D（二维）数组，我们只需引用行数和列数即可"
   ]
  },
  {
   "cell_type": "code",
   "execution_count": null,
   "metadata": {},
   "outputs": [],
   "source": [
    "#在NumPy中，我们通过传递一系列序列来制作数组"
   ]
  },
  {
   "cell_type": "code",
   "execution_count": null,
   "metadata": {},
   "outputs": [],
   "source": [
    "#多维数组切片 # MD slicing\n",
    "#切片多维数组比1D数组复杂一点，并且在使用NumPy时你也会经常需要使用到。\n",
    "print(a[0, 1:4]) # >>>[12 13 14]\n",
    "print(a[1:4, 0]) # >>>[16 21 26]\n",
    "\n",
    "print(a[0,::2])  #  >>>[11 13 15] 第一行 间隔切片\n",
    "print(a[::2,0])  #  >>>[11 21 31] 第一列 每隔两个切片\n",
    "print(a[::2,::2]) # >>>[[11 13 15]\n",
    "                  #     [21 23 25]\n",
    "                  #     [31 33 35]]\n",
    "\n",
    "print(a[:, 1]) # >>>[12 17 22 27 32]\n",
    "                                    #对于2D数组，我们的第一片定义了行的切片，第二片定义了列的切片\n"
   ]
  },
  {
   "cell_type": "code",
   "execution_count": null,
   "metadata": {},
   "outputs": [],
   "source": [
    "#在使用 NumPy 时，你会想知道数组的某些信息。很幸运，在这个包里边包含了很多便捷的方法，可以给你想要的信息\n",
    "# Array properties\n",
    "print(type(a)) # >>><class 'numpy.ndarray'>\n",
    "print(a.dtype) # >>>int64\n",
    "print(a.size) # >>>25\n",
    "print(a.shape) # >>>(5, 5)\n",
    "print(a.itemsize) # >>>8   itemsize属性是每个项占用的字节数。这个数组的数据类型是int 64，一个int 64中有64位，一个字节中有8位，除以64除以8，你就可以得到它占用了多少字节，在本例中是8\n",
    "print(a.ndim) # >>>2  ndim 属性是数组的维数。这个有2个。例如，向量只有1。\n",
    "print(a.nbytes) # >>>200  nbytes 属性是数组中的所有数据消耗掉的字节数。你应该注意到，这并不计算数组的开销，因此数组占用的实际空间将稍微大一点。"
   ]
  },
  {
   "cell_type": "code",
   "execution_count": null,
   "metadata": {},
   "outputs": [],
   "source": [
    "#使用数组\n",
    "#基本操作符  使用四则运算符 +、- 、/ 来完成运算操作"
   ]
  },
  {
   "cell_type": "code",
   "execution_count": null,
   "metadata": {},
   "outputs": [],
   "source": [
    "# Basic Operators\n",
    "a = np.arange(25)\n",
    "a = a.reshape((5, 5))\n",
    "\n",
    "b = np.array([10, 62, 1, 14, 2, 56, 79, 2, 1, 45,\n",
    "              4, 92, 5, 55, 63, 43, 35, 6, 53, 24,\n",
    "              56, 3, 56, 44, 78])\n",
    "b = b.reshape((5,5))"
   ]
  },
  {
   "cell_type": "code",
   "execution_count": null,
   "metadata": {},
   "outputs": [],
   "source": [
    "print(a + b) #除了 dot() 之外，这些操作符都是对数组进行逐元素运算。比如 (a, b, c) + (d, e, f) 的结果就是 (a+d, b+e, c+f)。它将分别对每一个元素进行配对，然后对它们进行运算。\n",
    "print(a - b)\n",
    "print(a * b)\n",
    "print(a / b)\n",
    "print(a ** 2)\n",
    "print(a < b) #注意，当使用逻辑运算符比如 “<” 和 “>” 的时候，返回的将是一个布尔型数组，这点有一个很好的用处，后边我们会提到。\n",
    "print(a > b)\n",
    "\n",
    "print(a.dot(b)) #dot() 函数计算两个数组的点积。它返回的是一个标量（只有大小没有方向的一个值）而不是数组。\n",
    "\n",
    "#dot()函数称为点积。 [a1,a2,a3].T 点积 [b1,b2,b3] = a1b1+a2b2+a3b3\n"
   ]
  },
  {
   "cell_type": "code",
   "execution_count": null,
   "metadata": {},
   "outputs": [],
   "source": [
    "#数组特殊运算符  NumPy还提供了一些别的用于处理数组的好用的运算符。\n",
    "# dot, sum, min, max, cumsum\n",
    "a = np.arange(10) # >>>[0 1 2 3 4 5 6 7 8 9]\n",
    "\n",
    "print(a.sum()) # >>>45              #sum()、min()和max()函数的作用非常明显。将所有元素相加，找出最小和最大元素。\n",
    "print(a.min()) # >>>0\n",
    "print(a.max()) # >>>9\n",
    "print(a.cumsum()) # >>>[ 0  1  3  6 10 15 21 28 36 45]\n",
    "                  #cumsum()函数将像sum()这样的每个元素相加，但是它首先将第一个元素和第二个元素相加，并将计算结果存储在一个列表中，然后将该结果添加到第三个元素中，然后再将该结果存储在一个列表中。这将对数组中的所有元素执行此操作，并返回作为列表的数组之和的运行总数"
   ]
  },
  {
   "cell_type": "code",
   "execution_count": null,
   "metadata": {},
   "outputs": [],
   "source": [
    "#索引进阶"
   ]
  },
  {
   "cell_type": "code",
   "execution_count": null,
   "metadata": {},
   "outputs": [],
   "source": [
    "#花式索引\n",
    "#花式索引 是获取数组中我们想要的特定元素的有效方法。\n",
    "# Fancy indexing\n",
    "a = np.arange(0, 100, 10)\n",
    "indices = [1, 5, -1]  # 第二个 第六个 倒数第一个\n",
    "b = a[indices]\n",
    "print(a) # >>>[ 0 10 20 30 40 50 60 70 80 90]\n",
    "print(b) # >>>[10 50 90]\n",
    "print(a[[1,5,-1]]) #直接用也是可以的 注意双括号"
   ]
  },
  {
   "cell_type": "code",
   "execution_count": null,
   "metadata": {},
   "outputs": [],
   "source": [
    "#布尔屏蔽\n",
    "#布尔屏蔽 是一个有用的功能，它允许我们根据我们指定的条件检索数组中的元素。\n",
    "# Boolean masking\n",
    "import matplotlib.pyplot as plt\n",
    "\n",
    "a = np.linspace(0, 2 * np.pi, 50)   #圆周率的表示办法 np.pi\n",
    "print(\"a= \\n\",a)\n",
    "b = np.sin(a)\n",
    "plt.plot(a,b)\n",
    "\n",
    "mask = b >= 0\n",
    "#plt.plot(a[mask], b[mask], 'bo')\n",
    "plt.plot(a[b >= 0],b[b >= 0],'go')  #ps这样也是可以的啊 把条件直接写到矩阵里\n",
    "\n",
    "mask = (b >= 0) & (a <= np.pi / 2)\n",
    "plt.plot(a[mask], b[mask], 'go')\n",
    "\n",
    "plt.show()\n",
    "                                    #上面的示例显示了如何进行布尔屏蔽。你所要做的就是将数组传递给涉及数组的条件，它将为你提供一个值的数组，为该条件返回true。"
   ]
  },
  {
   "cell_type": "code",
   "execution_count": null,
   "metadata": {},
   "outputs": [],
   "source": [
    "#缺省索引\n",
    "#不完全索引是从多维数组的第一个维度获取索引或切片的一种方便方法。例如，如果数组a=[1，2，3，4，5]，[6，7，8，9，10]，那么[3]将在数组的第一个维度中给出索引为3的元素，这里是值4。\n",
    "# Incomplete Indexing\n",
    "a = np.arange(0, 100, 10)\n",
    "b = a[:5]       # >>>[ 0 10 20 30 40]\n",
    "c = a[a >= 50]  # >>>[50 60 70 80 90]\n",
    "print(b) \n",
    "print(c) "
   ]
  },
  {
   "cell_type": "code",
   "execution_count": null,
   "metadata": {},
   "outputs": [],
   "source": [
    "#Where 函数\n",
    "#where() 函数是另外一个根据条件返回数组中的值的有效方法。只需要把条件传递给它，它就会返回一个使得条件为真的元素的列表。\n",
    "# Where\n",
    "a = np.arange(0, 100, 10)   # >>>[ 0 10 20 30 40 50 60 70 80 90]\n",
    "m = a.reshape(2,5)          # >>>[[ 0 10 20 30 40]\n",
    "                                 # [50 60 70 80 90]]\n",
    "print(m)\n",
    "b = np.where(a < 50)        # >>>(array([0, 1, 2, 3, 4]),)\n",
    "print(b) \n",
    "print(np.where(m<90))       # >>>(array([0, 0, 0, 0, 0, 1, 1, 1, 1], dtype=int64), array([0, 1, 2, 3, 4, 0, 1, 2, 3], dtype=int64)) 对应还是比较奇怪的\n",
    "c = np.where(a >= 50)[0]    # >>>[5 6 7 8 9]\n",
    "#print(c) \n"
   ]
  },
  {
   "cell_type": "code",
   "execution_count": null,
   "metadata": {},
   "outputs": [],
   "source": []
  }
 ]
}