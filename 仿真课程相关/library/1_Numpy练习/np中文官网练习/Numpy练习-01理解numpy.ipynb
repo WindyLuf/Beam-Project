{
 "metadata": {
  "language_info": {
   "codemirror_mode": {
    "name": "ipython",
    "version": 3
   },
   "file_extension": ".py",
   "mimetype": "text/x-python",
   "name": "python",
   "nbconvert_exporter": "python",
   "pygments_lexer": "ipython3",
   "version": "3.8.3-final"
  },
  "orig_nbformat": 2,
  "kernelspec": {
   "name": "python3",
   "display_name": "Python 3.8.3 64-bit (conda)",
   "metadata": {
    "interpreter": {
     "hash": "29a58165363761d0245fb0ea02df805252ac587bd1df7a9f713edd2be762951a"
    }
   }
  }
 },
 "nbformat": 4,
 "nbformat_minor": 2,
 "cells": [
  {
   "cell_type": "code",
   "execution_count": 1,
   "metadata": {},
   "outputs": [],
   "source": [
    "import numpy as np \n"
   ]
  },
  {
   "cell_type": "code",
   "execution_count": null,
   "metadata": {},
   "outputs": [],
   "source": [
    "x=np.random(10)\n",
    "x.min #求最小值\n",
    "np.min(x)\n",
    "\n",
    "x.max #求最大值\n",
    "np.max(X)\n",
    "\n",
    "x.median()  #可能出事 有时不行\n",
    "np.median(x) #求中位数 把左右两边划分相同  偶数中间两个均值\n",
    "\n",
    "x.mean()    #均值\n",
    "\n",
    "x.sum() #求和\n",
    "x.prod()\n",
    "x.percentile(x,q=50) #50%？？？？\n",
    "\n",
    "np.var(x)  #方差\n",
    "np.std(x)  #标准差\n",
    "\n",
    "X=np.arange(16).reshape(4,-1)  #小写x代表一维数据  大写X代表二维数据\n",
    "X.sum()\n",
    "np.sum()\n",
    "np.sum(X,axis=0) #行方向 向下求和\n",
    "np.sum(X,axis=1) #列方向 横向求和\n",
    "\n",
    "np.min(X,axis=0) #二维数据可以 设置坐标轴\n"
   ]
  },
  {
   "cell_type": "code",
   "execution_count": 16,
   "metadata": {},
   "outputs": [
    {
     "output_type": "execute_result",
     "data": {
      "text/plain": [
       "array([[9, 7, 8, 7],\n",
       "       [6, 4, 5, 5],\n",
       "       [5, 7, 4, 3],\n",
       "       [2, 9, 4, 6]])"
      ]
     },
     "metadata": {},
     "execution_count": 16
    }
   ],
   "source": [
    "x=np.random.normal(0,1,size=10) #正态分布 array([-0.26979046, -0.28322268, -0.12126364, -0.21413683,  0.07250951,\n",
    "                                    # -0.3084301 ,  0.84486719, -0.46854392,  1.30689413,  0.20984325])\n",
    "np.argmin(x) #得到的是 最小值的位置 其他同理\n",
    "\n",
    "#排序\n",
    "x=np.arange(16)\n",
    "np.random.shuffle(x) #乱序\n",
    "np.sort(x) #排序 从小到大   生成一个新的矩阵  原来的x保持不变\n",
    "\n",
    "X=np.random.randint(0,10,size=(4,4))\n",
    "np.sort(X) #每一行  从小大排序  axis默认为1\n",
    "np.sort(X,axis=0) #每一列 排序\n",
    "\n",
    "\n",
    "np.argsort(x) #返回从小大大 元素对应的位置\n",
    "x[np.argsort(x)]  #排序\n",
    "\n",
    "np.partition(x,3)   #前三个排序   拓展 前n个排序\n",
    "np.argpartition(x,3) #求前三个排序 的位置； \n",
    "index=np.argpartition(x,12)\n",
    "x[index[0:12] ]   #求最近的几个邻居不关心排序  机器学习时 使用\n",
    "\n",
    "np.argsort(X,axis=0) #列方向 排序的位置"
   ]
  },
  {
   "cell_type": "code",
   "execution_count": 22,
   "metadata": {},
   "outputs": [
    {
     "output_type": "execute_result",
     "data": {
      "text/plain": [
       "array([15,  8, 12])"
      ]
     },
     "metadata": {},
     "execution_count": 22
    }
   ],
   "source": [
    "x=np.arange(16)\n",
    "np.random.shuffle(x) #打乱\n",
    "x[3]\n",
    "x[3:9]\n",
    "x[3:9:2]\n",
    "np.array([ x[1],x[3],x[7] ])\n",
    "#或者\n",
    "index=[1,3,7] \n",
    "#index=np.array([1,3,7])\n",
    "x[index]\n",
    "\n",
    "index=np.array([ [0,2],[1,3] ])\n",
    "x[index] #索引结果的维数 和index相同 和x无关。\n",
    "\n",
    "\n",
    "\n",
    "\n",
    "X=x.reshape(4,-1)\n",
    "row=np.array([0,1,2])\n",
    "col=np.array([1,2,3])\n",
    "X[row,col] #array([15,  8, 12])   #z只有一维 三个， 行号列号取一个  行号列号取一个 是坐标\n",
    "X[:3,1:] #切片和index 不一样 这个是二维矩阵\n",
    "\n",
    "#还可以传布尔型\n",
    "col=[True,False,True,False]\n",
    "X[1,col]\n",
    "\n",
    "\n",
    "x>10 #得到布尔型数组 \n",
    "x[x>10] #可以取到 条件数据   \n",
    "x[ (x<3)|(x>10) ] \n",
    "\n",
    "2*x==24-4*x #也可以索引\n",
    "\n",
    "X<6 #二维一样 但是\n",
    "X[X<6] #索引 生成 一维的\n",
    "\n",
    "np.sum(x<3) #返回的是小于3 的个数 而不是和\n",
    "np.count_nonzero(x<3) #所有非零的值\n",
    "np.any(x==0) #只要有一个符合即可\n",
    "np.all(x==0)\n",
    "\n",
    "np.sum(x%2==0) #的个数\n",
    "np.sum(X%2==0) #de 个数\n",
    "np.sum(X%2==0,axis=0) #计算每一列 的个数"
   ]
  },
  {
   "cell_type": "code",
   "execution_count": 9,
   "metadata": {},
   "outputs": [
    {
     "output_type": "execute_result",
     "data": {
      "text/plain": [
       "array([[30, 30],\n",
       "       [70, 70]])"
      ]
     },
     "metadata": {},
     "execution_count": 9
    }
   ],
   "source": [
    "A=np.arange(1,5).reshape(2,-1)\n",
    "B=np.full((2,2),10)\n",
    "np.dot(A,B)"
   ]
  },
  {
   "cell_type": "code",
   "execution_count": null,
   "metadata": {},
   "outputs": [],
   "source": [
    "#a = arange(15).reshape(3,5)\n",
    "a = np.arange(15).reshape(3, 5)\n",
    "print(a)\n",
    "type(a)"
   ]
  },
  {
   "cell_type": "code",
   "execution_count": null,
   "metadata": {},
   "outputs": [],
   "source": [
    "b=np.array([6,7,8])\n",
    "print(b)\n",
    "type(b)"
   ]
  },
  {
   "cell_type": "code",
   "execution_count": null,
   "metadata": {},
   "outputs": [],
   "source": [
    "# Numpy中文网教程"
   ]
  },
  {
   "cell_type": "code",
   "execution_count": null,
   "metadata": {},
   "outputs": [],
   "source": [
    "my_array = np.array([1,2,3,4,5])\n",
    "print(my_array)\n",
    "my_array.shape #意思就是 my_array 是一个包含5个元素的数组"
   ]
  },
  {
   "cell_type": "code",
   "execution_count": null,
   "metadata": {},
   "outputs": [],
   "source": [
    "print(my_array[0])\n",
    "print(my_array[1])      #像普通的Python数组一样，NumPy数组的起始索引编号为0。"
   ]
  },
  {
   "cell_type": "code",
   "execution_count": null,
   "metadata": {},
   "outputs": [],
   "source": [
    "my_array[0]=-1\n",
    "my_array #还可以修改NumPy数组的元素"
   ]
  },
  {
   "cell_type": "code",
   "execution_count": null,
   "metadata": {},
   "outputs": [],
   "source": [
    "#现在假设，我们要创建一个长度为5的NumPy数组，但所有元素都为0，我们可以这样做吗？是的。NumPy提供了一种简单的方法来做同样的事情。\n",
    "my_new_array = np.zeros((5))\n",
    "my_new_array"
   ]
  },
  {
   "cell_type": "code",
   "execution_count": null,
   "metadata": {},
   "outputs": [],
   "source": [
    "my_array_1 = np.ones((5)) #创建一个长度为5的NumPy数组，但所有元素都为1\n",
    "my_array_1"
   ]
  },
  {
   "cell_type": "code",
   "execution_count": null,
   "metadata": {},
   "outputs": [],
   "source": [
    "# 如果我们想创建一个随机值数组\n",
    "my_random_array = np.random.random((5))\n",
    "my_random_array"
   ]
  },
  {
   "cell_type": "code",
   "execution_count": null,
   "metadata": {},
   "outputs": [],
   "source": [
    "#NumPy创建二维数组\n",
    "my_2d_array = np.zeros((2,3))  \n",
    "my_2d_array  "
   ]
  },
  {
   "cell_type": "code",
   "execution_count": null,
   "metadata": {},
   "outputs": [],
   "source": [
    "my_2d_array_new = np.ones((2,4))\n",
    "print(my_2d_array_new) \n",
    "print(my_2d_array_new.shape)\n",
    "print(my_2d_array_new[1][0]) #多维数组可以用 my_array[i][j] 符号来索引，其中i表示行号，j表示列号。i和j都从0开始"
   ]
  },
  {
   "cell_type": "code",
   "execution_count": null,
   "metadata": {},
   "outputs": [],
   "source": [
    "my_array_column = np.array([ [4 , 5] ,[6,1] ])\n",
    "print(my_array_column)\n",
    "print ( my_array_column[0][1]  )\n",
    "print(\"shape\",my_array_column.shape)"
   ]
  },
  {
   "cell_type": "code",
   "execution_count": null,
   "metadata": {},
   "outputs": [],
   "source": [
    "my_array_column_2 = my_array_column[:,1]  \n",
    "print(my_array_column_2)\n",
    "print(my_array_column[:,1]) #假设，我们想从中提取第二列（索引1）的所有元素\n",
    "                            #注意，我们使用了冒号(:)而不是行号，而对于列号，我们使用了值1，最终输出是：[5, 1]。"
   ]
  },
  {
   "cell_type": "code",
   "execution_count": null,
   "metadata": {},
   "outputs": [],
   "source": [
    "a = np.array([[1.0, 2.0], \n",
    "              [3.0, 4.0]]) \n",
    "b = np.array([[5.0, 6.0], \n",
    "              [7.0, 8.0]]) \n",
    "sum = a + b \n",
    "difference = a - b \n",
    "product = a * b   #乘法运算符执行逐元素乘法而不是矩阵乘法\n",
    "\n",
    "matrix_product = a.dot(b)  #要执行矩阵乘法，可以执行此操作\n",
    "\n",
    "quotient = a / b \n",
    "print (\"Sum = \\n\", sum )\n",
    "print(\"Difference = \\n\", difference )\n",
    "print(\"Product = \\n\", product )\n",
    "print(\"Matrix Product= \\n  \", matrix_product)\n",
    "print(\"Quotient = \\n\", quotient )"
   ]
  },
  {
   "cell_type": "code",
   "execution_count": null,
   "metadata": {},
   "outputs": [],
   "source": []
  }
 ]
}