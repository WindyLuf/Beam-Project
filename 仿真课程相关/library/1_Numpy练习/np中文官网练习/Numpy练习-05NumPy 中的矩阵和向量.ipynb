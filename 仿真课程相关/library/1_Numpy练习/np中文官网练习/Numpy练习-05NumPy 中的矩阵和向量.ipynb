{
 "metadata": {
  "language_info": {
   "codemirror_mode": {
    "name": "ipython",
    "version": 3
   },
   "file_extension": ".py",
   "mimetype": "text/x-python",
   "name": "python",
   "nbconvert_exporter": "python",
   "pygments_lexer": "ipython3",
   "version": "3.8.3-final"
  },
  "orig_nbformat": 2,
  "kernelspec": {
   "name": "python3",
   "display_name": "Python 3"
  }
 },
 "nbformat": 4,
 "nbformat_minor": 2,
 "cells": [
  {
   "source": [
    "NumPy 中的矩阵和向量\n",
    "\n",
    "numpy的ndarray类用于表示矩阵和向量。 要在numpy中构造矩阵，我们在列表中列出矩阵的行， 并将该列表传递给numpy数组构造函数。"
   ],
   "cell_type": "markdown",
   "metadata": {}
  },
  {
   "cell_type": "code",
   "execution_count": 2,
   "metadata": {},
   "outputs": [
    {
     "output_type": "execute_result",
     "data": {
      "text/plain": [
       "array([[ 1, -1,  2],\n",
       "       [ 3,  2,  0]])"
      ]
     },
     "metadata": {},
     "execution_count": 2
    }
   ],
   "source": [
    "import numpy as np \n",
    "#例如，构造与矩阵对应的numpy数组\n",
    "#[  [ 1 -1 2],\n",
    "#   [ 3  2 0] ]\n",
    "A = np.array([[1,-1,2],[3,2,0]])\n",
    "A"
   ]
  },
  {
   "source": [
    "#向量只是具有单列的数组。 例如，构建向量\n",
    "\n",
    "# [2\n",
    "#  1 \n",
    "#  3]\n",
    "v = np.array([[2],[1],[3]])\n",
    "v"
   ],
   "cell_type": "code",
   "metadata": {},
   "execution_count": 4,
   "outputs": [
    {
     "output_type": "execute_result",
     "data": {
      "text/plain": [
       "array([[2],\n",
       "       [1],\n",
       "       [3]])"
      ]
     },
     "metadata": {},
     "execution_count": 4
    }
   ]
  },
  {
   "cell_type": "code",
   "execution_count": 6,
   "metadata": {},
   "outputs": [
    {
     "output_type": "execute_result",
     "data": {
      "text/plain": [
       "array([[2],\n",
       "       [1],\n",
       "       [3]])"
      ]
     },
     "metadata": {},
     "execution_count": 6
    }
   ],
   "source": [
    "#更方便的方法是转置相应的行向量。 例如，为了使上面的矢量，我们可以改为转置行向量\n",
    "v = np.transpose(np.array([[2,1,3]])) \n",
    "v"
   ]
  },
  {
   "cell_type": "code",
   "execution_count": 7,
   "metadata": {},
   "outputs": [
    {
     "output_type": "stream",
     "name": "stdout",
     "text": [
      "0\n"
     ]
    }
   ],
   "source": [
    "#numpy重载数组索引和切片符号以访问矩阵的各个部分。 例如，要打印矩阵A中的右下方条目，我们会这样做\n",
    "print(A[1,2])"
   ]
  },
  {
   "cell_type": "code",
   "execution_count": 11,
   "metadata": {},
   "outputs": [
    {
     "output_type": "execute_result",
     "data": {
      "text/plain": [
       "array([[1],\n",
       "       [3]])"
      ]
     },
     "metadata": {},
     "execution_count": 11
    }
   ],
   "source": [
    "#要切出A矩阵中的第二列，我们会这样做\n",
    "col = A[:,0:1]  #这里面的0 1 数字指的是两列之间的逗号位次（带第一列左边）\n",
    "col\n",
    "#第一个切片选择A中的所有行，而第二个切片仅选择每行中的中间条目。"
   ]
  },
  {
   "cell_type": "code",
   "execution_count": 16,
   "metadata": {},
   "outputs": [
    {
     "output_type": "stream",
     "name": "stdout",
     "text": [
      "[[7]\n [8]] \n [[7]\n [8]]\n[[1 1 4]\n [9 4 0]]\n"
     ]
    }
   ],
   "source": [
    "#要进行矩阵乘法或矩阵向量乘法，我们使用np.dot()方法。\n",
    "w = np.dot(A,v)\n",
    "a = A.dot(v)\n",
    "print(w,\"\\n\",a)\n",
    "print(A*A)"
   ]
  },
  {
   "source": [
    "#用numpy求解方程组\n",
    "\n",
    "线性代数中比较常见的问题之一是求解矩阵向量方程"
   ],
   "cell_type": "markdown",
   "metadata": {}
  },
  {
   "source": [
    " 这是一个例子。 我们寻找解决方程的向量x\n",
    "\n",
    "A x = b\n",
    "\n"
   ],
   "cell_type": "markdown",
   "metadata": {}
  },
  {
   "source": [
    "# 当A =\n",
    "#[[ 2  1 -2]\n",
    " #[ 3  0  1]\n",
    " #[ 1  1 -1]]\n",
    "\n",
    " #b=\n",
    " #[[-3]\n",
    " #[  5]\n",
    " #[ -2]]"
   ],
   "cell_type": "code",
   "metadata": {},
   "execution_count": null,
   "outputs": []
  },
  {
   "cell_type": "code",
   "execution_count": 17,
   "metadata": {},
   "outputs": [
    {
     "output_type": "stream",
     "name": "stdout",
     "text": [
      "[[ 2  1 -2]\n [ 3  0  1]\n [ 1  1 -1]]\n[[-3]\n [ 5]\n [-2]]\n"
     ]
    }
   ],
   "source": [
    "#我们首先构建A和b的数组。\n",
    "A = np.array([[2,1,-2],[3,0,1],[1,1,-1]])\n",
    "b = np.transpose(np.array([[-3,5,-2]]))\n",
    "print(A)\n",
    "print(b)"
   ]
  },
  {
   "cell_type": "code",
   "execution_count": 19,
   "metadata": {},
   "outputs": [
    {
     "output_type": "execute_result",
     "data": {
      "text/plain": [
       "array([[ 1.],\n",
       "       [-1.],\n",
       "       [ 2.]])"
      ]
     },
     "metadata": {},
     "execution_count": 19
    }
   ],
   "source": [
    "#为了解决这个系统\n",
    "\n",
    "x = np.linalg.solve(A,b)                #求解函数！\n",
    "x"
   ]
  },
  {
   "source": [
    "应用：多元线性回归\n",
    "\n",
    "在多元回归问题中，我们寻找一种能够将输入数据点映射到结果值的函数。 每个数据点是特征向量（x1，x2，...，xm），由两个或多个捕获输入的各种特征的数据值组成。为了表示所有输入数据以及输出值的向量，我们设置了输入矩阵X和输出向量 y：\n",
    "\n",
    "https://www.numpy.org.cn/article/basics/numpy_matrices_vectors.html#%E7%94%A8numpy%E6%B1%82%E8%A7%A3%E6%96%B9%E7%A8%8B%E7%BB%84"
   ],
   "cell_type": "markdown",
   "metadata": {}
  }
 ]
}