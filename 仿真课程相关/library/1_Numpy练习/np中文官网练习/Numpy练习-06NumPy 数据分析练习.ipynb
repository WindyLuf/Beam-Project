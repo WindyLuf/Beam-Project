{
 "metadata": {
  "language_info": {
   "codemirror_mode": {
    "name": "ipython",
    "version": 3
   },
   "file_extension": ".py",
   "mimetype": "text/x-python",
   "name": "python",
   "nbconvert_exporter": "python",
   "pygments_lexer": "ipython3",
   "version": "3.8.3-final"
  },
  "orig_nbformat": 2,
  "kernelspec": {
   "name": "python3",
   "display_name": "Python 3"
  }
 },
 "nbformat": 4,
 "nbformat_minor": 2,
 "cells": [
  {
   "source": [
    "NumPy 数据分析练习\n",
    "\n",
    "Numpy练习的目标仅作为学习numpy的参考，并让你脱离基础性的NumPy使用。这些问题有4个级别的难度，其中L1是最容易的，L4是最难的。"
   ],
   "cell_type": "markdown",
   "metadata": {}
  },
  {
   "source": [
    "#NumPy数据分析问答\n",
    "\n",
    "#1、导入numpy作为np，并查看版本\n",
    "\n",
    "**难度等级：**L1 **问题：**将numpy导入为 np 并打印版本号。 答案："
   ],
   "cell_type": "markdown",
   "metadata": {}
  },
  {
   "cell_type": "code",
   "execution_count": 1,
   "metadata": {},
   "outputs": [
    {
     "output_type": "stream",
     "name": "stdout",
     "text": [
      "1.18.5\n"
     ]
    }
   ],
   "source": [
    "import numpy as np\n",
    "print(np.__version__)\n",
    "# > 1.13.3"
   ]
  },
  {
   "source": [
    "你必须将numpy导入np，才能使本练习中的其余代码正常工作。\n",
    "\n",
    "要安装numpy，建议安装anaconda，里面已经包含了numpy"
   ],
   "cell_type": "markdown",
   "metadata": {}
  },
  {
   "source": [
    "#2、如何创建一维数组？\n",
    "\n",
    "**难度等级：**L1 **问题：**创建从0到9的一维数字数组"
   ],
   "cell_type": "markdown",
   "metadata": {}
  },
  {
   "cell_type": "code",
   "execution_count": null,
   "metadata": {},
   "outputs": [],
   "source": [
    "arr = np.arange(10)\n",
    "arr\n",
    "# > array([0, 1, 2, 3, 4, 5, 6, 7, 8, 9])"
   ]
  },
  {
   "source": [
    "#3. 如何创建一个布尔数组？\n",
    "\n",
    "**难度等级：**L1\n",
    "\n",
    "**问题：**创建一个numpy数组元素值全为True（真）的数组"
   ],
   "cell_type": "markdown",
   "metadata": {}
  },
  {
   "cell_type": "code",
   "execution_count": 3,
   "metadata": {},
   "outputs": [
    {
     "output_type": "execute_result",
     "data": {
      "text/plain": [
       "array([[ True,  True,  True],\n",
       "       [ True,  True,  True],\n",
       "       [ True,  True,  True]])"
      ]
     },
     "metadata": {},
     "execution_count": 3
    }
   ],
   "source": [
    "np.full((3, 3), True, dtype=bool)\n",
    "# > array([[ True,  True,  True],\n",
    "# >        [ True,  True,  True],\n",
    "# >        [ True,  True,  True]], dtype=bool)\n",
    "\n"
   ]
  },
  {
   "cell_type": "code",
   "execution_count": 4,
   "metadata": {},
   "outputs": [
    {
     "output_type": "execute_result",
     "data": {
      "text/plain": [
       "array([[ True,  True,  True],\n",
       "       [ True,  True,  True],\n",
       "       [ True,  True,  True]])"
      ]
     },
     "metadata": {},
     "execution_count": 4
    }
   ],
   "source": [
    "# Alternate method:\n",
    "np.ones((3,3), dtype=bool)"
   ]
  },
  {
   "source": [
    "#4. 如何从一维数组中提取满足指定条件的元素？\n",
    "\n",
    "**难度等级：**L1\n",
    "\n",
    "**问题：**从 arr 中提取所有的奇数\n",
    "\n",
    "给定："
   ],
   "cell_type": "markdown",
   "metadata": {}
  },
  {
   "cell_type": "code",
   "execution_count": 8,
   "metadata": {},
   "outputs": [
    {
     "output_type": "execute_result",
     "data": {
      "text/plain": [
       "array([1, 3, 5, 7, 9])"
      ]
     },
     "metadata": {},
     "execution_count": 8
    }
   ],
   "source": [
    "# Input\n",
    "arr = np.array([0, 1, 2, 3, 4, 5, 6, 7, 8, 9])\n",
    "\n",
    "# Solution\n",
    "arr[arr % 2 ==1]\n",
    "# > array([1, 3, 5, 7, 9])"
   ]
  },
  {
   "source": [
    "#5. 如何用numpy数组中的另一个值替换满足条件的元素项？\n",
    "\n",
    "**难度等级：**L1\n",
    "\n",
    "**问题：**将arr中的所有奇数替换为-1。"
   ],
   "cell_type": "markdown",
   "metadata": {}
  },
  {
   "cell_type": "code",
   "execution_count": 9,
   "metadata": {},
   "outputs": [
    {
     "output_type": "execute_result",
     "data": {
      "text/plain": [
       "array([ 0, -1,  2, -1,  4, -1,  6, -1,  8, -1])"
      ]
     },
     "metadata": {},
     "execution_count": 9
    }
   ],
   "source": [
    "arr = np.array([0, 1, 2, 3, 4, 5, 6, 7, 8, 9])\n",
    "arr[arr % 2 == 1] = -1\n",
    "arr\n",
    "# > array([ 0, -1,  2, -1,  4, -1,  6, -1,  8, -1])"
   ]
  },
  {
   "source": [
    "#6. 如何在不影响原始数组的情况下替换满足条件的元素项？\n",
    "\n",
    "**难度等级：**L2\n",
    "\n",
    "**问题：**将arr中的所有奇数替换为-1，而不改变arr。"
   ],
   "cell_type": "markdown",
   "metadata": {}
  },
  {
   "cell_type": "code",
   "execution_count": 11,
   "metadata": {},
   "outputs": [
    {
     "output_type": "stream",
     "name": "stdout",
     "text": [
      "[0 1 2 3 4 5 6 7 8 9]\n"
     ]
    },
    {
     "output_type": "execute_result",
     "data": {
      "text/plain": [
       "array([ 0, -1,  2, -1,  4, -1,  6, -1,  8, -1])"
      ]
     },
     "metadata": {},
     "execution_count": 11
    }
   ],
   "source": [
    "arr = np.arange(10)\n",
    "out = np.where(arr % 2 == 1, -1, arr)\n",
    "print(arr)\n",
    "out\n",
    "# > [0 1 2 3 4 5 6 7 8 9]\n",
    "#array([ 0, -1,  2, -1,  4, -1,  6, -1,  8, -1])"
   ]
  },
  {
   "source": [
    "#7. 如何改变数组的形状？\n",
    "\n",
    "**难度等级：**L1\n",
    "\n",
    "**问题：**将一维数组转换为2行的2维数组"
   ],
   "cell_type": "markdown",
   "metadata": {}
  },
  {
   "cell_type": "code",
   "execution_count": 12,
   "metadata": {},
   "outputs": [
    {
     "output_type": "execute_result",
     "data": {
      "text/plain": [
       "array([[0, 1, 2, 3, 4],\n",
       "       [5, 6, 7, 8, 9]])"
      ]
     },
     "metadata": {},
     "execution_count": 12
    }
   ],
   "source": [
    "arr = np.arange(10)\n",
    "arr.reshape(2, -1)  # Setting to -1 automatically decides the number of cols\n",
    "# > array([[0, 1, 2, 3, 4],\n",
    "# >        [5, 6, 7, 8, 9]])"
   ]
  },
  {
   "source": [
    "#8. 如何垂直叠加两个数组？\n",
    "\n",
    "**难度等级：**L2\n",
    "\n",
    "**问题：**垂直堆叠数组a和数组b"
   ],
   "cell_type": "markdown",
   "metadata": {}
  },
  {
   "cell_type": "code",
   "execution_count": 16,
   "metadata": {},
   "outputs": [
    {
     "output_type": "stream",
     "name": "stdout",
     "text": [
      "[[1 1 1 1 1]\n [1 1 1 1 1]]\n"
     ]
    },
    {
     "output_type": "execute_result",
     "data": {
      "text/plain": [
       "array([[0, 1, 2, 3, 4],\n",
       "       [5, 6, 7, 8, 9],\n",
       "       [1, 1, 1, 1, 1],\n",
       "       [1, 1, 1, 1, 1]])"
      ]
     },
     "metadata": {},
     "execution_count": 16
    }
   ],
   "source": [
    "a = np.arange(10).reshape(2,-1)     #>>> [[0 1 2 3 4]\n",
    "                                    #     [5 6 7 8 9]]\n",
    "b = np.repeat(1, 10).reshape(2,-1)  #>>> [[1 1 1 1 1]\n",
    "                                    #     [1 1 1 1 1]]\n",
    "\n",
    "# Answers\n",
    "\n",
    "# Method 1:\n",
    "np.concatenate([a, b], axis=0)\n",
    "\n",
    "# Method 2:\n",
    "np.vstack([a, b])\n",
    "\n",
    "# Method 3:\n",
    "np.r_[a, b]\n",
    "# > array([[0, 1, 2, 3, 4],\n",
    "# >        [5, 6, 7, 8, 9],\n",
    "# >        [1, 1, 1, 1, 1],\n",
    "# >        [1, 1, 1, 1, 1]])"
   ]
  },
  {
   "source": [
    "#9. 如何水平叠加两个数组？\n",
    "\n",
    "**难度等级：**L2\n",
    "\n",
    "**问题：**将数组a和数组b水平堆叠。"
   ],
   "cell_type": "markdown",
   "metadata": {}
  },
  {
   "cell_type": "code",
   "execution_count": 18,
   "metadata": {},
   "outputs": [
    {
     "output_type": "execute_result",
     "data": {
      "text/plain": [
       "array([[0, 1, 2, 3, 4, 1, 1, 1, 1, 1],\n",
       "       [5, 6, 7, 8, 9, 1, 1, 1, 1, 1]])"
      ]
     },
     "metadata": {},
     "execution_count": 18
    }
   ],
   "source": [
    "a = np.arange(10).reshape(2,-1)\n",
    "b = np.repeat(1, 10).reshape(2,-1)\n",
    "\n",
    "# Answers\n",
    "# Method 1:\n",
    "np.concatenate([a, b], axis=1)\n",
    "\n",
    "# Method 2:\n",
    "np.hstack([a, b])\n",
    "\n",
    "# Method 3:\n",
    "np.c_[a, b]\n",
    "# > array([[0, 1, 2, 3, 4, 1, 1, 1, 1, 1],\n",
    "# >        [5, 6, 7, 8, 9, 1, 1, 1, 1, 1]])"
   ]
  },
  {
   "source": [
    "#10. 如何在无硬编码的情况下生成numpy中的自定义序列？\n",
    "\n",
    "**难度等级：**L2\n",
    "\n",
    "**问题：**创建以下模式而不使用硬编码。只使用numpy函数和下面的输入数组a。\n",
    "\n",
    "给定：\n",
    "\n",
    "a = np.array([1,2,3])`\n",
    "\n",
    "期望的输出：\n",
    "\n",
    "array ([1, 1, 1,2, 2, 2, 3, 3, 3, 1, 2, 3, 1, 2, 3, 1, 2, 3])"
   ],
   "cell_type": "markdown",
   "metadata": {}
  },
  {
   "cell_type": "code",
   "execution_count": 22,
   "metadata": {},
   "outputs": [],
   "source": [
    "#np.r_[np.repeat(a,3), np.tile(a,3)]                                #???\n",
    "# > array([1, 1, 1, 2, 2, 2, 3, 3, 3, 1, 2, 3, 1, 2, 3, 1, 2, 3])"
   ]
  },
  {
   "source": [
    "#11. 如何获取两个numpy数组之间的公共项？\n",
    "\n",
    "**难度等级：**L2\n",
    "\n",
    "**问题：**获取数组a和数组b之间的公共项。"
   ],
   "cell_type": "markdown",
   "metadata": {}
  },
  {
   "cell_type": "code",
   "execution_count": 23,
   "metadata": {},
   "outputs": [
    {
     "output_type": "execute_result",
     "data": {
      "text/plain": [
       "array([2, 4])"
      ]
     },
     "metadata": {},
     "execution_count": 23
    }
   ],
   "source": [
    "a = np.array([1,2,3,2,3,4,3,4,5,6])\n",
    "b = np.array([7,2,10,2,7,4,9,4,9,8])\n",
    "np.intersect1d(a,b)\n",
    "# > array([2, 4])"
   ]
  },
  {
   "cell_type": "code",
   "execution_count": null,
   "metadata": {},
   "outputs": [],
   "source": []
  }
 ]
}