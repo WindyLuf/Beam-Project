{
 "metadata": {
  "language_info": {
   "codemirror_mode": {
    "name": "ipython",
    "version": 3
   },
   "file_extension": ".py",
   "mimetype": "text/x-python",
   "name": "python",
   "nbconvert_exporter": "python",
   "pygments_lexer": "ipython3",
   "version": "3.8.5-final"
  },
  "orig_nbformat": 2,
  "kernelspec": {
   "name": "python3",
   "display_name": "Python 3.8.5 64-bit (conda)",
   "metadata": {
    "interpreter": {
     "hash": "b46ef9ef0c70e1289742301c296434a817e71cf50810ff9ff20f0331f18810fe"
    }
   }
  }
 },
 "nbformat": 4,
 "nbformat_minor": 2,
 "cells": [
  {
   "cell_type": "code",
   "execution_count": 1,
   "metadata": {},
   "outputs": [],
   "source": [
    "import numpy as np \n"
   ]
  },
  {
   "source": [
    "# 1 Transposing Array 数组变位\n",
    "我们可以使用NumPy的transpose函数将矩阵各个维度进行对换："
   ],
   "cell_type": "markdown",
   "metadata": {}
  },
  {
   "cell_type": "code",
   "execution_count": 2,
   "metadata": {},
   "outputs": [
    {
     "output_type": "execute_result",
     "data": {
      "text/plain": [
       "array([[0, 1, 2],\n",
       "       [3, 4, 5]])"
      ]
     },
     "metadata": {},
     "execution_count": 2
    }
   ],
   "source": [
    "m1 = np.arange(6).reshape((2, 3))\n",
    "m1"
   ]
  },
  {
   "cell_type": "code",
   "execution_count": 3,
   "metadata": {},
   "outputs": [
    {
     "output_type": "stream",
     "name": "stdout",
     "text": [
      "[[0 3]\n [1 4]\n [2 5]]\n"
     ]
    }
   ],
   "source": [
    "print(np.transpose(m1)) # 将矩阵的维度进行对换"
   ]
  },
  {
   "cell_type": "code",
   "execution_count": 4,
   "metadata": {},
   "outputs": [
    {
     "output_type": "execute_result",
     "data": {
      "text/plain": [
       "array([[0, 3],\n",
       "       [1, 4],\n",
       "       [2, 5]])"
      ]
     },
     "metadata": {},
     "execution_count": 4
    }
   ],
   "source": [
    "m1.T"
   ]
  },
  {
   "cell_type": "code",
   "execution_count": null,
   "metadata": {},
   "outputs": [],
   "source": []
  },
  {
   "cell_type": "code",
   "execution_count": 5,
   "metadata": {},
   "outputs": [
    {
     "output_type": "execute_result",
     "data": {
      "text/plain": [
       "array([[[1., 1., 1.],\n",
       "        [1., 1., 1.]]])"
      ]
     },
     "metadata": {},
     "execution_count": 5
    }
   ],
   "source": [
    "m2 = np.ones((1, 2, 3))\n",
    "m2.shape # (1, 2, 3)\n",
    "m2"
   ]
  },
  {
   "cell_type": "code",
   "execution_count": 6,
   "metadata": {},
   "outputs": [
    {
     "output_type": "stream",
     "name": "stdout",
     "text": [
      "(2, 1, 3)\n"
     ]
    },
    {
     "output_type": "execute_result",
     "data": {
      "text/plain": [
       "array([[[1., 1., 1.]],\n",
       "\n",
       "       [[1., 1., 1.]]])"
      ]
     },
     "metadata": {},
     "execution_count": 6
    }
   ],
   "source": [
    "print(np.transpose(m2, (1, 0, 2)).shape) # 将原数组的维度(0, 1, 2)换成(1, 0, 2)\n",
    "np.transpose(m2, (1, 0, 2))"
   ]
  },
  {
   "cell_type": "code",
   "execution_count": null,
   "metadata": {},
   "outputs": [],
   "source": []
  },
  {
   "cell_type": "code",
   "execution_count": 7,
   "metadata": {},
   "outputs": [
    {
     "output_type": "stream",
     "name": "stdout",
     "text": [
      "(2, 3, 4, 5)\n转换后\n (5, 4, 3, 2)\n"
     ]
    }
   ],
   "source": [
    "m3 = np.ones((2, 3, 4, 5))\n",
    "print(m3.shape)\n",
    "print(\"转换后\\n\",np.transpose(m3).shape) # 对换m3矩阵所有的维度(0, 1, 2, 3)换成(3, 2, 1, 0)"
   ]
  },
  {
   "cell_type": "code",
   "execution_count": null,
   "metadata": {},
   "outputs": [],
   "source": []
  },
  {
   "cell_type": "code",
   "execution_count": 8,
   "metadata": {},
   "outputs": [
    {
     "output_type": "execute_result",
     "data": {
      "text/plain": [
       "array([[[ 0,  1,  2,  3],\n",
       "        [ 4,  5,  6,  7],\n",
       "        [ 8,  9, 10, 11]],\n",
       "\n",
       "       [[12, 13, 14, 15],\n",
       "        [16, 17, 18, 19],\n",
       "        [20, 21, 22, 23]]])"
      ]
     },
     "metadata": {},
     "execution_count": 8
    }
   ],
   "source": [
    "m4 = np.arange(24).reshape(2, 3, 4)\n",
    "m4"
   ]
  },
  {
   "cell_type": "code",
   "execution_count": 9,
   "metadata": {},
   "outputs": [
    {
     "output_type": "execute_result",
     "data": {
      "text/plain": [
       "array([[[ 0,  4,  8],\n",
       "        [12, 16, 20]],\n",
       "\n",
       "       [[ 1,  5,  9],\n",
       "        [13, 17, 21]],\n",
       "\n",
       "       [[ 2,  6, 10],\n",
       "        [14, 18, 22]],\n",
       "\n",
       "       [[ 3,  7, 11],\n",
       "        [15, 19, 23]]])"
      ]
     },
     "metadata": {},
     "execution_count": 9
    }
   ],
   "source": [
    "m5 = m4.transpose((2, 0, 1)) # 维度对换：(2, 3, 4) => (4, 2, 3)\n",
    "m5"
   ]
  },
  {
   "cell_type": "code",
   "execution_count": null,
   "metadata": {},
   "outputs": [],
   "source": []
  },
  {
   "cell_type": "code",
   "execution_count": 10,
   "metadata": {},
   "outputs": [
    {
     "output_type": "stream",
     "name": "stdout",
     "text": [
      "[[[ 0  1  2  3]\n  [12 13 14 15]]\n\n [[ 4  5  6  7]\n  [16 17 18 19]]\n\n [[ 8  9 10 11]\n  [20 21 22 23]]]\n"
     ]
    }
   ],
   "source": [
    "m6 = m4.swapaxes(0, 1) # 置换特定的维度：(2, 3, 4) => (3, 2, 4)\n",
    "print(m6)"
   ]
  },
  {
   "cell_type": "code",
   "execution_count": null,
   "metadata": {},
   "outputs": [],
   "source": []
  },
  {
   "cell_type": "code",
   "execution_count": null,
   "metadata": {},
   "outputs": [],
   "source": []
  },
  {
   "source": [
    "# 2 Stacking Arrays 合并"
   ],
   "cell_type": "markdown",
   "metadata": {}
  },
  {
   "cell_type": "code",
   "execution_count": 11,
   "metadata": {},
   "outputs": [
    {
     "output_type": "stream",
     "name": "stdout",
     "text": [
      "[[1. 1. 1. 1. 1.]\n [2. 2. 2. 2. 2.]]\n"
     ]
    }
   ],
   "source": [
    "array1 = np.full((1, 5), 1.0)\n",
    "array2 = np.full((1, 5), 2.0)\n",
    "stacked_array = np.vstack((array1, array2)) # 竖直合并序列中的数组（行方向）\n",
    "print(stacked_array)"
   ]
  },
  {
   "cell_type": "code",
   "execution_count": 12,
   "metadata": {},
   "outputs": [
    {
     "output_type": "stream",
     "name": "stdout",
     "text": [
      "[[1. 1. 2. 2.]\n [1. 1. 2. 2.]\n [1. 1. 2. 2.]]\n"
     ]
    }
   ],
   "source": [
    "matrix1 = np.full((3, 2), 1.0)\n",
    "matrix2 = np.full((3, 2), 2.0)\n",
    "stacked_matrix = np.hstack((matrix1, matrix2)) # 水平合并序列中的数组（列方向）\n",
    "print(stacked_matrix)"
   ]
  },
  {
   "source": [
    "我们还能使用concatenate对多个矩阵或序列进行合并，通过自定义axis的位置，则能更方便地合并矩阵："
   ],
   "cell_type": "markdown",
   "metadata": {}
  },
  {
   "cell_type": "code",
   "execution_count": 13,
   "metadata": {},
   "outputs": [
    {
     "output_type": "stream",
     "name": "stdout",
     "text": [
      "[[1. 1.]\n [1. 1.]\n [1. 1.]\n [2. 2.]\n [2. 2.]\n [2. 2.]]\n"
     ]
    }
   ],
   "source": [
    "cmatrix1 = np.concatenate((matrix1, matrix2), axis = 0) # 和vstack相同\n",
    "cmatrix2 = np.concatenate((matrix1, matrix2), axis = 1) # 和hstack相同\n",
    "print(cmatrix1)"
   ]
  },
  {
   "cell_type": "code",
   "execution_count": 14,
   "metadata": {},
   "outputs": [
    {
     "output_type": "stream",
     "name": "stdout",
     "text": [
      "[[[1 1 1]\n  [1 1 1]\n  [1 1 1]]\n\n [[2 2 2]\n  [2 2 2]\n  [2 2 2]]]\n"
     ]
    }
   ],
   "source": [
    "matrix1 = np.full((3, 3), 1)\n",
    "matrix2 = np.full((3, 3), 2)\n",
    "\n",
    "matrix3 = np.stack((matrix1, matrix2)) # 沿着新轴将矩阵合并，要保持两个矩阵形状一致\n",
    "print(matrix3)"
   ]
  },
  {
   "cell_type": "code",
   "execution_count": null,
   "metadata": {},
   "outputs": [],
   "source": []
  },
  {
   "cell_type": "code",
   "execution_count": null,
   "metadata": {},
   "outputs": [],
   "source": []
  },
  {
   "source": [
    "# 3. Splitting Array 分割"
   ],
   "cell_type": "markdown",
   "metadata": {}
  },
  {
   "cell_type": "code",
   "execution_count": 15,
   "metadata": {},
   "outputs": [
    {
     "output_type": "stream",
     "name": "stdout",
     "text": [
      "[[ 0  1  2  3]\n [ 4  5  6  7]\n [ 8  9 10 11]\n [12 13 14 15]\n [16 17 18 19]\n [20 21 22 23]\n [24 25 26 27]\n [28 29 30 31]\n [32 33 34 35]]\n"
     ]
    }
   ],
   "source": [
    "big_matrix = np.arange(36).reshape(9, 4)\n",
    "print(big_matrix)"
   ]
  },
  {
   "cell_type": "code",
   "execution_count": 16,
   "metadata": {},
   "outputs": [
    {
     "output_type": "stream",
     "name": "stdout",
     "text": [
      "m1=\n [[ 0  1  2  3]\n [ 4  5  6  7]\n [ 8  9 10 11]]\nm2=\n [[12 13 14 15]\n [16 17 18 19]\n [20 21 22 23]]\nm3=\n [[24 25 26 27]\n [28 29 30 31]\n [32 33 34 35]]\n"
     ]
    }
   ],
   "source": [
    "m1, m2, m3 = np.vsplit(big_matrix, 3) # 将一个数组垂直分割成多个子数组（按行）\n",
    "print(\"m1=\\n\",m1)\n",
    "print(\"m2=\\n\",m2)\n",
    "print(\"m3=\\n\",m3)"
   ]
  },
  {
   "cell_type": "code",
   "execution_count": 17,
   "metadata": {},
   "outputs": [
    {
     "output_type": "stream",
     "name": "stdout",
     "text": [
      "m4=\n [[ 0  1]\n [ 4  5]\n [ 8  9]\n [12 13]\n [16 17]\n [20 21]\n [24 25]\n [28 29]\n [32 33]]\nm5=\n [[ 2  3]\n [ 6  7]\n [10 11]\n [14 15]\n [18 19]\n [22 23]\n [26 27]\n [30 31]\n [34 35]]\n"
     ]
    }
   ],
   "source": [
    "m4, m5 = np.hsplit(big_matrix, 2) # 将一个数组水平分割为多个子数组（按列）\n",
    "print(\"m4=\\n\",m4)\n",
    "print(\"m5=\\n\",m5)"
   ]
  },
  {
   "cell_type": "code",
   "execution_count": null,
   "metadata": {},
   "outputs": [],
   "source": []
  },
  {
   "source": [
    "# 4. Tile\n",
    "Tile函数可以重复某个数组以构成一个新的数组："
   ],
   "cell_type": "markdown",
   "metadata": {}
  },
  {
   "cell_type": "code",
   "execution_count": 18,
   "metadata": {},
   "outputs": [
    {
     "output_type": "stream",
     "name": "stdout",
     "text": [
      "[0 1 2 3]\n"
     ]
    }
   ],
   "source": [
    "m1 = np.arange(4)\n",
    "print(m1)"
   ]
  },
  {
   "cell_type": "code",
   "execution_count": 19,
   "metadata": {},
   "outputs": [
    {
     "output_type": "stream",
     "name": "stdout",
     "text": [
      "[[0 1 2 3]\n [0 1 2 3]\n [0 1 2 3]\n [0 1 2 3]]\n"
     ]
    }
   ],
   "source": [
    "m2 = np.tile(m1, (4, 1)) # 重复4个m2矩阵，并将它们按行合并\n",
    "print(m2)"
   ]
  },
  {
   "cell_type": "code",
   "execution_count": 20,
   "metadata": {},
   "outputs": [
    {
     "output_type": "stream",
     "name": "stdout",
     "text": [
      "[[0 1 2 3 0 1 2 3]\n [0 1 2 3 0 1 2 3]\n [0 1 2 3 0 1 2 3]\n [0 1 2 3 0 1 2 3]]\n"
     ]
    }
   ],
   "source": [
    "m3 = np.tile(m1, (4, 2)) # 重复8个矩阵，4个按行合并，4个按列合并\n",
    "print(m3)"
   ]
  },
  {
   "cell_type": "code",
   "execution_count": null,
   "metadata": {},
   "outputs": [],
   "source": []
  },
  {
   "cell_type": "code",
   "execution_count": null,
   "metadata": {},
   "outputs": [],
   "source": []
  },
  {
   "cell_type": "code",
   "execution_count": null,
   "metadata": {},
   "outputs": [],
   "source": []
  },
  {
   "cell_type": "code",
   "execution_count": null,
   "metadata": {},
   "outputs": [],
   "source": []
  },
  {
   "source": [
    "# 5. 重要机制\n",
    "## 5.1. Broadcasting 广播"
   ],
   "cell_type": "markdown",
   "metadata": {}
  },
  {
   "source": [
    "广播原则的前提：两个数组必须可以转化成维度大小一模一样才能进行运算。\n",
    "\n",
    "规则1：如果两个数组的维度不同，那么小维度数组的形状将会在最左边补1"
   ],
   "cell_type": "markdown",
   "metadata": {}
  },
  {
   "cell_type": "code",
   "execution_count": 21,
   "metadata": {},
   "outputs": [
    {
     "output_type": "stream",
     "name": "stdout",
     "text": [
      "[[[0 1 2 3]]]\n[[[10 11 22 23]]]\n"
     ]
    }
   ],
   "source": [
    "m1 = np.arange(4).reshape(1, 1, 4)\n",
    "print(m1)\n",
    "print(m1 + [10, 10, 20, 20]) # 等于：m1 + [[[10, 10, 20, 20]]]（形状(1,1,4)）"
   ]
  },
  {
   "source": [
    "规则2：如果两个数组的形状在任何一个维度上都不匹配，那么数组的形状则会沿着维度为1扩展，以匹配另一个数组的形状。"
   ],
   "cell_type": "markdown",
   "metadata": {}
  },
  {
   "cell_type": "code",
   "execution_count": 22,
   "metadata": {},
   "outputs": [
    {
     "output_type": "stream",
     "name": "stdout",
     "text": [
      "[[0 1 2]\n",
      " [3 4 5]]\n"
     ]
    }
   ],
   "source": [
    "m2 = np.arange(6).reshape(2, 3)\n",
    "print(m2)"
   ]
  },
  {
   "cell_type": "code",
   "execution_count": 23,
   "metadata": {},
   "outputs": [
    {
     "output_type": "stream",
     "name": "stdout",
     "text": [
      "[[10 11 12]\n [23 24 25]]\n"
     ]
    }
   ],
   "source": [
    "print(m2 + [[10], [20]]) # 等于: m2 + [[10, 10, 10], [20, 20, 20]]"
   ]
  },
  {
   "cell_type": "code",
   "execution_count": 24,
   "metadata": {},
   "outputs": [
    {
     "output_type": "stream",
     "name": "stdout",
     "text": [
      "[[10 21 32]\n [13 24 35]]\n"
     ]
    }
   ],
   "source": [
    "print(m2 + [10, 20, 30]) # 规则1：[[10,20,30]] => 规则2：[[10,20,30],[10,20,30]]"
   ]
  },
  {
   "cell_type": "code",
   "execution_count": 25,
   "metadata": {},
   "outputs": [
    {
     "output_type": "stream",
     "name": "stdout",
     "text": [
      "[[100 101 102]\n [103 104 105]]\n"
     ]
    }
   ],
   "source": [
    "print(m2 + 100) # 与之相同的逻辑: m2 + [[100, 100, 100], [100, 100, 100]]"
   ]
  },
  {
   "cell_type": "code",
   "execution_count": null,
   "metadata": {},
   "outputs": [],
   "source": []
  },
  {
   "cell_type": "code",
   "execution_count": 26,
   "metadata": {},
   "outputs": [],
   "source": [
    "m3 = np.array([[1,2,3], [4,5,6], [7,8,9], [10, 11, 12]])"
   ]
  },
  {
   "cell_type": "code",
   "execution_count": 27,
   "metadata": {},
   "outputs": [],
   "source": [
    "m4 = np.array([1, 0, 1])"
   ]
  },
  {
   "cell_type": "code",
   "execution_count": 28,
   "metadata": {},
   "outputs": [
    {
     "output_type": "stream",
     "name": "stdout",
     "text": [
      "[[ 2  2  4]\n [ 5  5  7]\n [ 8  8 10]\n [11 11 13]]\n"
     ]
    }
   ],
   "source": [
    "m5 = m3 + m4  # 使用广播将 m4 加到 m3 的每一行上\n",
    "print(m5)"
   ]
  },
  {
   "source": [
    "规则3：如果两个数组的形状在任何一个维度上都不匹配，并且没有任何一个维度为1，那么就会引起异常。"
   ],
   "cell_type": "markdown",
   "metadata": {}
  },
  {
   "cell_type": "code",
   "execution_count": 29,
   "metadata": {},
   "outputs": [
    {
     "output_type": "stream",
     "name": "stdout",
     "text": [
      "operands could not be broadcast together with shapes (1,1,4) (2,) \n"
     ]
    }
   ],
   "source": [
    "try:\n",
    "  m1 = np.arange(4).reshape(1, 1, 4) \n",
    "  m1 + [33, 44] # 规则3会引发异常\n",
    "except ValueError as e:\n",
    "  print(e) "
   ]
  },
  {
   "cell_type": "code",
   "execution_count": null,
   "metadata": {},
   "outputs": [],
   "source": []
  },
  {
   "cell_type": "code",
   "execution_count": null,
   "metadata": {},
   "outputs": [],
   "source": []
  },
  {
   "cell_type": "code",
   "execution_count": null,
   "metadata": {},
   "outputs": [],
   "source": []
  },
  {
   "source": [
    "## 5.2. Upcasting"
   ],
   "cell_type": "markdown",
   "metadata": {}
  },
  {
   "source": [
    "将不同数据类型的数组进行运算时，运算结果会自动将数据类型转变为更为精确的数据类型："
   ],
   "cell_type": "markdown",
   "metadata": {}
  },
  {
   "cell_type": "code",
   "execution_count": 30,
   "metadata": {},
   "outputs": [
    {
     "output_type": "stream",
     "name": "stdout",
     "text": [
      "int8 [0 1 2 3 4]\n"
     ]
    }
   ],
   "source": [
    "m1 = np.arange(0, 5, dtype=np.int8)\n",
    "print(m1.dtype, m1) # uint8"
   ]
  },
  {
   "cell_type": "code",
   "execution_count": 31,
   "metadata": {},
   "outputs": [
    {
     "output_type": "stream",
     "name": "stdout",
     "text": [
      "int16 [ 5  7  9 11 13]\n"
     ]
    }
   ],
   "source": [
    "m2 = m1 + np.array([5, 6, 7, 8, 9], dtype=np.int16)\n",
    "print(m2.dtype, m2) # int16"
   ]
  },
  {
   "cell_type": "code",
   "execution_count": 32,
   "metadata": {},
   "outputs": [
    {
     "output_type": "stream",
     "name": "stdout",
     "text": [
      "float64 [1.5 2.5 3.5 4.5 5.5]\n"
     ]
    }
   ],
   "source": [
    "m3 = m1 + 1.5\n",
    "print(m3.dtype, m3) # float64"
   ]
  }
 ]
}