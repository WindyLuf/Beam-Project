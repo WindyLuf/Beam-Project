{
 "metadata": {
  "language_info": {
   "codemirror_mode": {
    "name": "ipython",
    "version": 3
   },
   "file_extension": ".py",
   "mimetype": "text/x-python",
   "name": "python",
   "nbconvert_exporter": "python",
   "pygments_lexer": "ipython3",
   "version": "3.8.3-final"
  },
  "orig_nbformat": 2,
  "kernelspec": {
   "name": "python3",
   "display_name": "Python 3",
   "language": "python"
  }
 },
 "nbformat": 4,
 "nbformat_minor": 2,
 "cells": [
  {
   "cell_type": "code",
   "execution_count": 2,
   "metadata": {},
   "outputs": [
    {
     "output_type": "stream",
     "name": "stdout",
     "text": [
      "<__main__.Test object at 0x0000024802217DC0>\n<class '__main__.Test'>\n"
     ]
    }
   ],
   "source": [
    "class Test:\n",
    "    def prt(self):\n",
    "        print(self)\n",
    "        print(self.__class__)\n",
    " \n",
    "t = Test()\n",
    "t.prt()"
   ]
  },
  {
   "source": [
    "<__main__.Test object at 0x0000024802217DC0>\n",
    "\n",
    "<class '__main__.Test'>\n",
    "\n",
    "从执行结果可以很明显的看出，self 代表的是类的实例，代表当前对象的地址，而 self.class 则指向类。\n",
    "\n",
    "self 不是 python 关键字，我们把他换成 runoob 也是可以正常执行的:"
   ],
   "cell_type": "markdown",
   "metadata": {}
  },
  {
   "cell_type": "code",
   "execution_count": 3,
   "metadata": {},
   "outputs": [
    {
     "output_type": "stream",
     "name": "stdout",
     "text": [
      "<__main__.Test object at 0x0000024802238D30>\n<class '__main__.Test'>\n"
     ]
    }
   ],
   "source": [
    "class Test:\n",
    "    def prt(runoob):\n",
    "        print(runoob)\n",
    "        print(runoob.__class__)\n",
    " \n",
    "t = Test()\n",
    "t.prt()"
   ]
  },
  {
   "cell_type": "code",
   "execution_count": 4,
   "metadata": {},
   "outputs": [
    {
     "output_type": "stream",
     "name": "stdout",
     "text": [
      "1\n"
     ]
    }
   ],
   "source": [
    "class Circle(object):  # 创建Circle类\n",
    "   def __init__(self, R):  # 约定成俗这里应该使用r，它与self.r中的r同名\n",
    "       self.r = R\n",
    "\n",
    "circle1 = Circle(1)  \n",
    "print(circle1.r)  #我们访问的是小写r"
   ]
  },
  {
   "cell_type": "code",
   "execution_count": null,
   "metadata": {},
   "outputs": [],
   "source": []
  },
  {
   "cell_type": "code",
   "execution_count": null,
   "metadata": {},
   "outputs": [],
   "source": []
  },
  {
   "cell_type": "code",
   "execution_count": null,
   "metadata": {},
   "outputs": [],
   "source": []
  },
  {
   "cell_type": "code",
   "execution_count": 5,
   "metadata": {},
   "outputs": [],
   "source": [
    "class Circle(object):# 创建Circle类\n",
    "    pi = 3.14  # 类属性\n",
    "    def __init__(self, r): # 初始化一个属性r（不要忘记self参数，他是类下面所有方法必须的参数）\n",
    "       self.r = r  # 表示给我们将要创建的实例赋予属性r赋值\n",
    "    def get_area(self):\n",
    "       \"\"\" 圆的面积 \"\"\"\n",
    "       # return self.r**2 * Circle.pi # 通过实例修改pi的值对面积无影响，这个pi为类属性的值\n",
    "       return self.r**2 * self.pi  # 通过实例修改pi的值对面积我们圆的面积就会改变\n",
    "       \n",
    "circle1 = Circle(1)\n",
    "circle2 = Circle(2)\n"
   ]
  },
  {
   "cell_type": "code",
   "execution_count": 6,
   "metadata": {},
   "outputs": [
    {
     "output_type": "stream",
     "name": "stdout",
     "text": [
      "----未修改前-----\npi=\t 3.14\ncircle1.pi=\t 3.14\ncircle2.pi=\t 3.14\n----通过类名修改后-----\npi=\t 3.14159\ncircle1.pi=\t 3.14159\ncircle2.pi=\t 3.14159\n----通过circle1实例名修改后-----\npi=\t 3.14159\ncircle1.pi=\t 3.14111\ncircle2.pi=\t 3.14159\n----删除circle1实例属性pi-----\n----删除circle1实例属性pi-----\npi=\t 3.14159\ncircle1.pi=\t 3.14159\ncircle2.pi=\t 3.14159\n3.14159\n"
     ]
    }
   ],
   "source": [
    "print('----未修改前-----')\n",
    "print('pi=\\t', Circle.pi)\n",
    "print('circle1.pi=\\t', circle1.pi)  #  3.14\n",
    "print('circle2.pi=\\t', circle2.pi)  #  3.14\n",
    "print('----通过类名修改后-----')\n",
    "Circle.pi = 3.14159  # 通过类名修改类属性，所有实例的类属性被改变\n",
    "print('pi=\\t', Circle.pi)   #  3.14159\n",
    "print('circle1.pi=\\t', circle1.pi)   #  3.14159\n",
    "print('circle2.pi=\\t', circle2.pi)   #  3.14159\n",
    "print('----通过circle1实例名修改后-----')\n",
    "circle1.pi=3.14111   # 实际上这里是给circle1创建了一个与类属性同名的实例属性\n",
    "print('pi=\\t', Circle.pi)     #  3.14159\n",
    "print('circle1.pi=\\t', circle1.pi)  # 实例属性的访问优先级比类属性高，所以是3.14111   \n",
    "print('circle2.pi=\\t', circle2.pi)  #  3.14159\n",
    "print('----删除circle1实例属性pi-----')\n",
    "print('----删除circle1实例属性pi-----')\n",
    "del circle1.pi\n",
    "print('pi=\\t', Circle.pi)\n",
    "print('circle1.pi=\\t', circle1.pi)\n",
    "print('circle2.pi=\\t', circle2.pi)\n",
    "circle1 = Circle(1)\n",
    "print(circle1.get_area())  # 调用方法 self不需要传入参数，不要忘记方法后的括号  输出 3.14"
   ]
  },
  {
   "cell_type": "code",
   "execution_count": null,
   "metadata": {},
   "outputs": [],
   "source": []
  }
 ]
}